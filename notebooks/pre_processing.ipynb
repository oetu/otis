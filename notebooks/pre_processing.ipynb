{
 "cells": [
  {
   "cell_type": "code",
   "execution_count": 1,
   "metadata": {},
   "outputs": [],
   "source": [
    "import os\n",
    "import re\n",
    "\n",
    "from datetime import datetime\n",
    "\n",
    "import torch\n",
    "import numpy as np\n",
    "import pandas as pd\n",
    "\n",
    "import wfdb\n",
    "from scipy import sparse\n",
    "from scipy.sparse.linalg import spsolve\n",
    "\n",
    "import matplotlib.pyplot as plt\n",
    "# plt.style.use('dark_background')\n",
    "\n",
    "import multiprocessing"
   ]
  },
  {
   "cell_type": "markdown",
   "metadata": {},
   "source": [
    "### Create numpy memory-map file"
   ]
  },
  {
   "cell_type": "code",
   "execution_count": 2,
   "metadata": {},
   "outputs": [
    {
     "name": "stdout",
     "output_type": "stream",
     "text": [
      "800035\n"
     ]
    },
    {
     "data": {
      "text/html": [
       "<div>\n",
       "<style scoped>\n",
       "    .dataframe tbody tr th:only-of-type {\n",
       "        vertical-align: middle;\n",
       "    }\n",
       "\n",
       "    .dataframe tbody tr th {\n",
       "        vertical-align: top;\n",
       "    }\n",
       "\n",
       "    .dataframe thead th {\n",
       "        text-align: right;\n",
       "    }\n",
       "</style>\n",
       "<table border=\"1\" class=\"dataframe\">\n",
       "  <thead>\n",
       "    <tr style=\"text-align: right;\">\n",
       "      <th></th>\n",
       "      <th>subject_id</th>\n",
       "      <th>study_id</th>\n",
       "      <th>file_name</th>\n",
       "      <th>ecg_time</th>\n",
       "      <th>path</th>\n",
       "    </tr>\n",
       "  </thead>\n",
       "  <tbody>\n",
       "    <tr>\n",
       "      <th>0</th>\n",
       "      <td>10000032</td>\n",
       "      <td>40689238</td>\n",
       "      <td>40689238</td>\n",
       "      <td>2180-07-23 08:44:00</td>\n",
       "      <td>files/p1000/p10000032/s40689238/40689238</td>\n",
       "    </tr>\n",
       "    <tr>\n",
       "      <th>1</th>\n",
       "      <td>10000032</td>\n",
       "      <td>44458630</td>\n",
       "      <td>44458630</td>\n",
       "      <td>2180-07-23 09:54:00</td>\n",
       "      <td>files/p1000/p10000032/s44458630/44458630</td>\n",
       "    </tr>\n",
       "    <tr>\n",
       "      <th>2</th>\n",
       "      <td>10000032</td>\n",
       "      <td>49036311</td>\n",
       "      <td>49036311</td>\n",
       "      <td>2180-08-06 09:07:00</td>\n",
       "      <td>files/p1000/p10000032/s49036311/49036311</td>\n",
       "    </tr>\n",
       "    <tr>\n",
       "      <th>3</th>\n",
       "      <td>10000117</td>\n",
       "      <td>45090959</td>\n",
       "      <td>45090959</td>\n",
       "      <td>2181-03-04 17:14:00</td>\n",
       "      <td>files/p1000/p10000117/s45090959/45090959</td>\n",
       "    </tr>\n",
       "    <tr>\n",
       "      <th>4</th>\n",
       "      <td>10000117</td>\n",
       "      <td>48446569</td>\n",
       "      <td>48446569</td>\n",
       "      <td>2183-09-18 13:52:00</td>\n",
       "      <td>files/p1000/p10000117/s48446569/48446569</td>\n",
       "    </tr>\n",
       "    <tr>\n",
       "      <th>5</th>\n",
       "      <td>10000285</td>\n",
       "      <td>42709053</td>\n",
       "      <td>42709053</td>\n",
       "      <td>2159-11-26 14:29:00</td>\n",
       "      <td>files/p1000/p10000285/s42709053/42709053</td>\n",
       "    </tr>\n",
       "    <tr>\n",
       "      <th>6</th>\n",
       "      <td>10000560</td>\n",
       "      <td>41445586</td>\n",
       "      <td>41445586</td>\n",
       "      <td>2189-10-03 12:54:00</td>\n",
       "      <td>files/p1000/p10000560/s41445586/41445586</td>\n",
       "    </tr>\n",
       "    <tr>\n",
       "      <th>7</th>\n",
       "      <td>10000560</td>\n",
       "      <td>42695383</td>\n",
       "      <td>42695383</td>\n",
       "      <td>2198-09-19 10:01:00</td>\n",
       "      <td>files/p1000/p10000560/s42695383/42695383</td>\n",
       "    </tr>\n",
       "    <tr>\n",
       "      <th>8</th>\n",
       "      <td>10000635</td>\n",
       "      <td>40067704</td>\n",
       "      <td>40067704</td>\n",
       "      <td>2136-06-19 07:24:00</td>\n",
       "      <td>files/p1000/p10000635/s40067704/40067704</td>\n",
       "    </tr>\n",
       "    <tr>\n",
       "      <th>9</th>\n",
       "      <td>10000635</td>\n",
       "      <td>48339811</td>\n",
       "      <td>48339811</td>\n",
       "      <td>2136-06-20 08:54:00</td>\n",
       "      <td>files/p1000/p10000635/s48339811/48339811</td>\n",
       "    </tr>\n",
       "  </tbody>\n",
       "</table>\n",
       "</div>"
      ],
      "text/plain": [
       "   subject_id  study_id  file_name             ecg_time  \\\n",
       "0    10000032  40689238   40689238  2180-07-23 08:44:00   \n",
       "1    10000032  44458630   44458630  2180-07-23 09:54:00   \n",
       "2    10000032  49036311   49036311  2180-08-06 09:07:00   \n",
       "3    10000117  45090959   45090959  2181-03-04 17:14:00   \n",
       "4    10000117  48446569   48446569  2183-09-18 13:52:00   \n",
       "5    10000285  42709053   42709053  2159-11-26 14:29:00   \n",
       "6    10000560  41445586   41445586  2189-10-03 12:54:00   \n",
       "7    10000560  42695383   42695383  2198-09-19 10:01:00   \n",
       "8    10000635  40067704   40067704  2136-06-19 07:24:00   \n",
       "9    10000635  48339811   48339811  2136-06-20 08:54:00   \n",
       "\n",
       "                                       path  \n",
       "0  files/p1000/p10000032/s40689238/40689238  \n",
       "1  files/p1000/p10000032/s44458630/44458630  \n",
       "2  files/p1000/p10000032/s49036311/49036311  \n",
       "3  files/p1000/p10000117/s45090959/45090959  \n",
       "4  files/p1000/p10000117/s48446569/48446569  \n",
       "5  files/p1000/p10000285/s42709053/42709053  \n",
       "6  files/p1000/p10000560/s41445586/41445586  \n",
       "7  files/p1000/p10000560/s42695383/42695383  \n",
       "8  files/p1000/p10000635/s40067704/40067704  \n",
       "9  files/p1000/p10000635/s48339811/48339811  "
      ]
     },
     "execution_count": 2,
     "metadata": {},
     "output_type": "execute_result"
    }
   ],
   "source": [
    "# import ecg details\n",
    "ecg_path = '/home/oturgut/data/mimic-iv-ecg/1.0/'\n",
    "ecg_detail = pd.read_csv(ecg_path+'record_list.csv')\n",
    "print(len(ecg_detail))\n",
    "ecg_detail[:10]"
   ]
  },
  {
   "cell_type": "code",
   "execution_count": 3,
   "metadata": {},
   "outputs": [
    {
     "name": "stdout",
     "output_type": "stream",
     "text": [
      "161352\n"
     ]
    }
   ],
   "source": [
    "# check number of unique ecg subjects\n",
    "ecg_subjects = ecg_detail[\"subject_id\"].unique()\n",
    "print(len(ecg_subjects))"
   ]
  },
  {
   "cell_type": "code",
   "execution_count": 13,
   "metadata": {},
   "outputs": [],
   "source": [
    "torch.save(ecg_detail[\"path\"].values, \"/home/oturgut/data/processed/mimic-ecg-text/ecgs_file_path.pt\")"
   ]
  },
  {
   "cell_type": "code",
   "execution_count": 16,
   "metadata": {},
   "outputs": [],
   "source": [
    "fp = np.memmap(\"/home/oturgut/data/processed/mimic-ecg-text/ecgs_memmap.dat\", dtype='float32', mode='r+', shape=(800035, 12, 5000))"
   ]
  },
  {
   "cell_type": "code",
   "execution_count": null,
   "metadata": {},
   "outputs": [],
   "source": [
    "def process_ecgs(sample_id):\n",
    "    file_name = ecg_detail.loc[sample_id, \"path\"]\n",
    "    rec_path = ecg_path+file_name\n",
    "\n",
    "    data = wfdb.rdsamp(rec_path, return_res=32)[0]\n",
    "    data = np.transpose(data)\n",
    "\n",
    "    # remove nan\n",
    "    data = np.nan_to_num(data)\n",
    "    \n",
    "    # clamp\n",
    "    data_std = data.std()\n",
    "    data = np.clip(data, a_min=-4*data_std, a_max=4*data_std)\n",
    "\n",
    "    # remove baseline wander\n",
    "    baselines = np.zeros_like(data)\n",
    "    for lead in range(data.shape[0]):\n",
    "        baselines[lead] = baseline_als(data[lead], lam=1e7, p=0.3, niter=5)\n",
    "    data = data - baselines\n",
    "\n",
    "    # normalize data\n",
    "    transform = Normalization(mode=\"group_wise\", groups=[3, 6, 12])\n",
    "    data = transform(data)\n",
    "\n",
    "    return data, rec_path\n",
    "\n",
    "\n",
    "if __name__ == '__main__':\n",
    "    # Define the number of processes\n",
    "    num_processes = 16\n",
    "\n",
    "    ecgs = []\n",
    "    # Create a multiprocessing Pool\n",
    "    with multiprocessing.Pool(processes=num_processes) as pool:\n",
    "        results = pool.map(process_ecgs, range(1000))\n",
    "        \n",
    "    # extract results into separate lists\n",
    "    ecgs, rec_paths = zip(*results)\n",
    "\n",
    "    print(len(ecgs))\n",
    "\n",
    "    # tensor_ecg = torch.tensor(np.array(ecgs))\n",
    "    fp[:1000] = np.array(ecgs)\n",
    "    fp.flush()\n",
    "\n",
    "    # print(tensor_ecg.shape, tensor_ecg.dtype)"
   ]
  },
  {
   "cell_type": "code",
   "execution_count": null,
   "metadata": {},
   "outputs": [
    {
     "data": {
      "text/plain": [
       "memmap([[-0.07189263, -0.21425413, -0.21940723, ..., -0.09712695,\n",
       "         -0.18788548, -0.3701162 ],\n",
       "        [-0.03344372, -0.03258858, -0.12320559, ..., -0.556074  ,\n",
       "         -0.6485588 , -0.74104345],\n",
       "        [-0.1880078 , -0.0447662 , -0.1302049 , ..., -0.6365034 ,\n",
       "         -0.6380154 , -0.54805535],\n",
       "        ...,\n",
       "        [-0.05338173, -0.10013048, -0.12383203, ..., -0.5661242 ,\n",
       "         -0.56283814, -0.55955213],\n",
       "        [-0.00649234, -0.00492439, -0.00335645, ..., -0.47528172,\n",
       "         -0.47116256, -0.46704334],\n",
       "        [-0.22276278, -0.22311199, -0.2695556 , ..., -0.30344695,\n",
       "         -0.2930371 , -0.28262725]], dtype=float32)"
      ]
     },
     "execution_count": 18,
     "metadata": {},
     "output_type": "execute_result"
    }
   ],
   "source": [
    "fp[0]"
   ]
  },
  {
   "cell_type": "code",
   "execution_count": 2,
   "metadata": {},
   "outputs": [],
   "source": [
    "fp2 = np.memmap(\"/home/oturgut/data/processed/mimic-ecg-text/ecgs_memmap.dat\", dtype='float32', mode='r', shape=(800035, 12, 5000))"
   ]
  },
  {
   "cell_type": "code",
   "execution_count": 4,
   "metadata": {},
   "outputs": [
    {
     "data": {
      "text/plain": [
       "(12, 5000)"
      ]
     },
     "execution_count": 4,
     "metadata": {},
     "output_type": "execute_result"
    }
   ],
   "source": [
    "fp2[800034].shape"
   ]
  },
  {
   "cell_type": "code",
   "execution_count": null,
   "metadata": {},
   "outputs": [],
   "source": [
    "# torch.save(tensor_ecg, \"/home/oturgut/data/processed/mimic-ecg-text/ecgs.pt\")"
   ]
  },
  {
   "cell_type": "code",
   "execution_count": null,
   "metadata": {},
   "outputs": [
    {
     "data": {
      "text/plain": [
       "5000"
      ]
     },
     "execution_count": 7,
     "metadata": {},
     "output_type": "execute_result"
    }
   ],
   "source": [
    "len(rec_paths)"
   ]
  },
  {
   "cell_type": "code",
   "execution_count": null,
   "metadata": {},
   "outputs": [
    {
     "data": {
      "text/plain": [
       "('/home/oturgut/data/mimic-iv-ecg/1.0/files/p1000/p10000032/s40689238/40689238',\n",
       " '/home/oturgut/data/mimic-iv-ecg/1.0/files/p1000/p10000032/s44458630/44458630',\n",
       " '/home/oturgut/data/mimic-iv-ecg/1.0/files/p1000/p10000032/s49036311/49036311',\n",
       " '/home/oturgut/data/mimic-iv-ecg/1.0/files/p1000/p10000117/s45090959/45090959',\n",
       " '/home/oturgut/data/mimic-iv-ecg/1.0/files/p1000/p10000117/s48446569/48446569',\n",
       " '/home/oturgut/data/mimic-iv-ecg/1.0/files/p1000/p10000285/s42709053/42709053',\n",
       " '/home/oturgut/data/mimic-iv-ecg/1.0/files/p1000/p10000560/s41445586/41445586',\n",
       " '/home/oturgut/data/mimic-iv-ecg/1.0/files/p1000/p10000560/s42695383/42695383',\n",
       " '/home/oturgut/data/mimic-iv-ecg/1.0/files/p1000/p10000635/s40067704/40067704',\n",
       " '/home/oturgut/data/mimic-iv-ecg/1.0/files/p1000/p10000635/s48339811/48339811')"
      ]
     },
     "execution_count": 8,
     "metadata": {},
     "output_type": "execute_result"
    }
   ],
   "source": [
    "rec_paths[:10]"
   ]
  },
  {
   "cell_type": "code",
   "execution_count": null,
   "metadata": {},
   "outputs": [],
   "source": [
    "# torch.save(tensor_ecg, \"/home/oturgut/data/processed/mimic-ecg-text/ecgs_10k.pt\")"
   ]
  },
  {
   "cell_type": "markdown",
   "metadata": {},
   "source": [
    "## ECG DATA"
   ]
  },
  {
   "cell_type": "code",
   "execution_count": null,
   "metadata": {},
   "outputs": [
    {
     "name": "stdout",
     "output_type": "stream",
     "text": [
      "609272\n"
     ]
    },
    {
     "data": {
      "text/html": [
       "<div>\n",
       "<style scoped>\n",
       "    .dataframe tbody tr th:only-of-type {\n",
       "        vertical-align: middle;\n",
       "    }\n",
       "\n",
       "    .dataframe tbody tr th {\n",
       "        vertical-align: top;\n",
       "    }\n",
       "\n",
       "    .dataframe thead th {\n",
       "        text-align: right;\n",
       "    }\n",
       "</style>\n",
       "<table border=\"1\" class=\"dataframe\">\n",
       "  <thead>\n",
       "    <tr style=\"text-align: right;\">\n",
       "      <th></th>\n",
       "      <th>subject_id</th>\n",
       "      <th>study_id</th>\n",
       "      <th>waveform_path</th>\n",
       "      <th>note_id</th>\n",
       "      <th>note_seq</th>\n",
       "      <th>charttime</th>\n",
       "    </tr>\n",
       "  </thead>\n",
       "  <tbody>\n",
       "    <tr>\n",
       "      <th>0</th>\n",
       "      <td>10000032</td>\n",
       "      <td>40689238</td>\n",
       "      <td>files/p1000/p10000032/s40689238/40689238</td>\n",
       "      <td>10000032-EK-4</td>\n",
       "      <td>4</td>\n",
       "      <td>2180-07-23 08:44:00</td>\n",
       "    </tr>\n",
       "    <tr>\n",
       "      <th>1</th>\n",
       "      <td>10000032</td>\n",
       "      <td>44458630</td>\n",
       "      <td>files/p1000/p10000032/s44458630/44458630</td>\n",
       "      <td>10000032-EK-5</td>\n",
       "      <td>5</td>\n",
       "      <td>2180-07-23 09:54:00</td>\n",
       "    </tr>\n",
       "    <tr>\n",
       "      <th>2</th>\n",
       "      <td>10000032</td>\n",
       "      <td>49036311</td>\n",
       "      <td>files/p1000/p10000032/s49036311/49036311</td>\n",
       "      <td>10000032-EK-6</td>\n",
       "      <td>6</td>\n",
       "      <td>2180-08-06 09:07:00</td>\n",
       "    </tr>\n",
       "    <tr>\n",
       "      <th>3</th>\n",
       "      <td>10000117</td>\n",
       "      <td>48446569</td>\n",
       "      <td>files/p1000/p10000117/s48446569/48446569</td>\n",
       "      <td>10000117-EK-17</td>\n",
       "      <td>17</td>\n",
       "      <td>2183-09-18 13:52:00</td>\n",
       "    </tr>\n",
       "    <tr>\n",
       "      <th>4</th>\n",
       "      <td>10000560</td>\n",
       "      <td>41445586</td>\n",
       "      <td>files/p1000/p10000560/s41445586/41445586</td>\n",
       "      <td>10000560-EK-12</td>\n",
       "      <td>12</td>\n",
       "      <td>2189-10-03 12:54:00</td>\n",
       "    </tr>\n",
       "    <tr>\n",
       "      <th>5</th>\n",
       "      <td>10000635</td>\n",
       "      <td>40067704</td>\n",
       "      <td>files/p1000/p10000635/s40067704/40067704</td>\n",
       "      <td>10000635-EK-12</td>\n",
       "      <td>12</td>\n",
       "      <td>2136-06-19 07:24:00</td>\n",
       "    </tr>\n",
       "    <tr>\n",
       "      <th>6</th>\n",
       "      <td>10000635</td>\n",
       "      <td>48339811</td>\n",
       "      <td>files/p1000/p10000635/s48339811/48339811</td>\n",
       "      <td>10000635-EK-13</td>\n",
       "      <td>13</td>\n",
       "      <td>2136-06-20 08:54:00</td>\n",
       "    </tr>\n",
       "    <tr>\n",
       "      <th>7</th>\n",
       "      <td>10000635</td>\n",
       "      <td>45386375</td>\n",
       "      <td>files/p1000/p10000635/s45386375/45386375</td>\n",
       "      <td>10000635-EK-14</td>\n",
       "      <td>14</td>\n",
       "      <td>2136-07-05 12:35:00</td>\n",
       "    </tr>\n",
       "    <tr>\n",
       "      <th>8</th>\n",
       "      <td>10000635</td>\n",
       "      <td>43522917</td>\n",
       "      <td>files/p1000/p10000635/s43522917/43522917</td>\n",
       "      <td>10000635-EK-15</td>\n",
       "      <td>15</td>\n",
       "      <td>2137-02-07 13:58:00</td>\n",
       "    </tr>\n",
       "    <tr>\n",
       "      <th>9</th>\n",
       "      <td>10000635</td>\n",
       "      <td>44095784</td>\n",
       "      <td>files/p1000/p10000635/s44095784/44095784</td>\n",
       "      <td>10000635-EK-16</td>\n",
       "      <td>16</td>\n",
       "      <td>2138-09-29 11:09:00</td>\n",
       "    </tr>\n",
       "  </tbody>\n",
       "</table>\n",
       "</div>"
      ],
      "text/plain": [
       "   subject_id  study_id                             waveform_path  \\\n",
       "0    10000032  40689238  files/p1000/p10000032/s40689238/40689238   \n",
       "1    10000032  44458630  files/p1000/p10000032/s44458630/44458630   \n",
       "2    10000032  49036311  files/p1000/p10000032/s49036311/49036311   \n",
       "3    10000117  48446569  files/p1000/p10000117/s48446569/48446569   \n",
       "4    10000560  41445586  files/p1000/p10000560/s41445586/41445586   \n",
       "5    10000635  40067704  files/p1000/p10000635/s40067704/40067704   \n",
       "6    10000635  48339811  files/p1000/p10000635/s48339811/48339811   \n",
       "7    10000635  45386375  files/p1000/p10000635/s45386375/45386375   \n",
       "8    10000635  43522917  files/p1000/p10000635/s43522917/43522917   \n",
       "9    10000635  44095784  files/p1000/p10000635/s44095784/44095784   \n",
       "\n",
       "          note_id  note_seq            charttime  \n",
       "0   10000032-EK-4         4  2180-07-23 08:44:00  \n",
       "1   10000032-EK-5         5  2180-07-23 09:54:00  \n",
       "2   10000032-EK-6         6  2180-08-06 09:07:00  \n",
       "3  10000117-EK-17        17  2183-09-18 13:52:00  \n",
       "4  10000560-EK-12        12  2189-10-03 12:54:00  \n",
       "5  10000635-EK-12        12  2136-06-19 07:24:00  \n",
       "6  10000635-EK-13        13  2136-06-20 08:54:00  \n",
       "7  10000635-EK-14        14  2136-07-05 12:35:00  \n",
       "8  10000635-EK-15        15  2137-02-07 13:58:00  \n",
       "9  10000635-EK-16        16  2138-09-29 11:09:00  "
      ]
     },
     "execution_count": 3,
     "metadata": {},
     "output_type": "execute_result"
    }
   ],
   "source": [
    "# import ecg details\n",
    "ecg_path = '/home/oturgut/data/mimic-iv-ecg/1.0/'\n",
    "ecg_detail = pd.read_csv(ecg_path+'waveform_note_links.csv')\n",
    "print(len(ecg_detail))\n",
    "ecg_detail[:10]"
   ]
  },
  {
   "cell_type": "code",
   "execution_count": null,
   "metadata": {},
   "outputs": [
    {
     "name": "stdout",
     "output_type": "stream",
     "text": [
      "105293\n"
     ]
    }
   ],
   "source": [
    "# check number of unique ecg subjects\n",
    "ecg_subjects = ecg_detail[\"subject_id\"].unique()\n",
    "print(len(ecg_subjects))"
   ]
  },
  {
   "cell_type": "markdown",
   "metadata": {},
   "source": [
    "#### Pre-processing"
   ]
  },
  {
   "cell_type": "code",
   "execution_count": null,
   "metadata": {},
   "outputs": [],
   "source": [
    "class Normalization(object):\n",
    "    \"\"\"\n",
    "    Normalize the data.\n",
    "    \"\"\"\n",
    "    def __init__(self, mode=\"sample_wise\", groups=[3, 6, 12]) -> None:\n",
    "        self.mode = mode\n",
    "        self.groups = groups\n",
    "\n",
    "    def __call__(self, sample) -> np.array:\n",
    "        sample_dtype = sample.dtype\n",
    "\n",
    "        if self.mode == \"sample_wise\":\n",
    "            mean = np.mean(sample)\n",
    "            var = np.var(sample)\n",
    "        \n",
    "        elif self.mode == \"channel_wise\":\n",
    "            mean = np.mean(sample, axis=-1, keepdims=True)\n",
    "            var = np.var(sample, axis=-1, keepdims=True)\n",
    "        \n",
    "        elif self.mode == \"group_wise\":\n",
    "            mean = []\n",
    "            var = []\n",
    "\n",
    "            lower_bound = 0\n",
    "            for idx in self.groups:\n",
    "                mean_group = np.mean(sample[lower_bound:idx], axis=(0, 1), keepdims=True)\n",
    "                mean_group = np.repeat(mean_group, repeats=int(idx-lower_bound), axis=0)\n",
    "                var_group = np.var(sample[lower_bound:idx], axis=(0, 1), keepdims=True)\n",
    "                var_group = np.repeat(var_group, repeats=int(idx-lower_bound), axis=0)\n",
    "                lower_bound = idx\n",
    "\n",
    "                mean.extend(mean_group)\n",
    "                var.extend(var_group)\n",
    "\n",
    "            mean = np.array(mean, dtype=sample_dtype)\n",
    "            var = np.array(var, dtype=sample_dtype)\n",
    "\n",
    "        normalized_sample = (sample - mean) / (var + 1.e-5)**.5\n",
    "\n",
    "        return normalized_sample\n",
    "    \n",
    "\n",
    "def baseline_als(y, lam=1e8, p=1e-2, niter=10):\n",
    "    \"\"\"\n",
    "    Paul H. C. Eilers and Hans F.M. Boelens: Baseline Correction with Asymmetric Least Squares Smoothing\n",
    "    https://www.rdocumentation.org/packages/baseline/versions/1.3-1/topics/baseline.als\n",
    "    \"\"\"\n",
    "    L = len(y)\n",
    "    D = sparse.diags([1,-2,1], [0,-1,-2], shape=(L, L-2))\n",
    "    D = lam * D.dot(D.transpose())\n",
    "    w = np.ones(L)\n",
    "    W = sparse.spdiags(w, 0, L, L)\n",
    "    for i in range(niter):\n",
    "        W.setdiag(w)\n",
    "        Z = W + D\n",
    "        z = spsolve(Z, w*y)\n",
    "        w = p * (y > z) + (1-p) * (y < z)\n",
    "    return z"
   ]
  },
  {
   "cell_type": "code",
   "execution_count": null,
   "metadata": {},
   "outputs": [
    {
     "name": "stdout",
     "output_type": "stream",
     "text": [
      "(12, 5000)\n",
      "BASELINE WANDER REMOVAL\n",
      "GROUP NORMALIZATION\n"
     ]
    },
    {
     "data": {
      "image/png": "[encoded data removed]",
      "text/plain": [
       "<Figure size 2000x400 with 1 Axes>"
      ]
     },
     "metadata": {},
     "output_type": "display_data"
    }
   ],
   "source": [
    "# visualize preprocessing\n",
    "\n",
    "# rec_path = '/home/oturgut/data/mimic-iv-ecg/1.0/files/p1000/p10000764/s44069449/44069449'\n",
    "# rec_path = \"/home/oturgut/data/mimic-iv-ecg/1.0/files/p1447/p14474896/s46823076/46823076\"\n",
    "# rec_path = \"/home/oturgut/data/mimic-iv-ecg/1.0/files/p1951/p19513389/s41757975/41757975\"\n",
    "# rec_path = \"/home/oturgut/data/mimic-iv-ecg/1.0/files/p1263/p12633462/s43404535/43404535\"\n",
    "rec_path = \"/home/oturgut/data/mimic-iv-ecg/1.0/files/p1159/p11593664/s45534050/45534050\"\n",
    "\n",
    "data = wfdb.rdsamp(rec_path, return_res=16)[0]\n",
    "data = np.transpose(data)\n",
    "ecg_data = data\n",
    "print(data.shape)\n",
    "\n",
    "# remove baseline wander\n",
    "print(\"BASELINE WANDER REMOVAL\")\n",
    "baselines = np.zeros_like(data)\n",
    "\n",
    "for lead in range(data.shape[0]):\n",
    "    baselines[lead] = baseline_als(data[lead], lam=1e7, p=0.3, niter=5)\n",
    "\n",
    "data = data - baselines\n",
    "\n",
    "# normalize data\n",
    "print(\"GROUP NORMALIZATION\")\n",
    "transform = Normalization(mode=\"group_wise\", groups=[3, 6, 12])\n",
    "data = transform(data)\n",
    "ecg_data = transform(ecg_data)\n",
    "\n",
    "# plot data\n",
    "lead = 11\n",
    "plt.figure(figsize=(20, 4))\n",
    "plt.plot(np.zeros(5000), color='black', label='dc')\n",
    "plt.plot(data[lead], color='tab:orange', label='processed')\n",
    "plt.plot(ecg_data[lead], color='tab:blue', label='original')\n",
    "plt.legend()\n",
    "plt.show()"
   ]
  },
  {
   "cell_type": "code",
   "execution_count": null,
   "metadata": {},
   "outputs": [],
   "source": [
    "def process_ecgs(sample_id):\n",
    "    file_name = ecg_detail.loc[sample_id, \"waveform_path\"]\n",
    "    rec_path = ecg_path+file_name\n",
    "\n",
    "    data = wfdb.rdsamp(rec_path, return_res=32)[0]\n",
    "    data = np.transpose(data)\n",
    "\n",
    "    # remove nan\n",
    "    data = np.nan_to_num(data)\n",
    "    \n",
    "    # clamp\n",
    "    data_std = data.std()\n",
    "    data = np.clip(data, a_min=-4*data_std, a_max=4*data_std)\n",
    "\n",
    "    # remove baseline wander\n",
    "    baselines = np.zeros_like(data)\n",
    "    for lead in range(data.shape[0]):\n",
    "        baselines[lead] = baseline_als(data[lead], lam=1e7, p=0.3, niter=5)\n",
    "    data = data - baselines\n",
    "\n",
    "    # normalize data\n",
    "    transform = Normalization(mode=\"group_wise\", groups=[3, 6, 12])\n",
    "    data = transform(data)\n",
    "\n",
    "    return data\n",
    "\n",
    "\n",
    "if __name__ == '__main__':\n",
    "    # Define the number of processes\n",
    "    num_processes = 32\n",
    "\n",
    "    ecgs = []\n",
    "    # Create a multiprocessing Pool\n",
    "    with multiprocessing.Pool(processes=num_processes) as pool:\n",
    "        ecgs.extend(pool.map(process_ecgs, range(250000)))\n",
    "        \n",
    "    print(len(ecgs))\n",
    "\n",
    "    tensor_ecg = torch.tensor(np.array(ecgs))\n",
    "\n",
    "    print(tensor_ecg.shape, tensor_ecg.dtype)"
   ]
  },
  {
   "cell_type": "code",
   "execution_count": null,
   "metadata": {},
   "outputs": [],
   "source": [
    "# torch.save(torch.tensor(np.array(ecgs), dtype=torch.float16), '/home/oturgut/data/processed/mimic-ecg-text/ecg_pretrain_250k_float16.pt')"
   ]
  },
  {
   "cell_type": "code",
   "execution_count": null,
   "metadata": {},
   "outputs": [],
   "source": [
    "# torch.save(ecg_note_ids[:2048], '/home/oturgut/data/processed/mimic-ecg-text/ecg_test_note_ids.pt')\n",
    "# torch.save(torch.tensor(ecgs), '/home/oturgut/data/processed/mimic-ecg-text/ecg_test.pt')"
   ]
  },
  {
   "cell_type": "code",
   "execution_count": null,
   "metadata": {},
   "outputs": [
    {
     "data": {
      "text/plain": [
       "torch.Size([6007, 12, 5000])"
      ]
     },
     "execution_count": 67,
     "metadata": {},
     "output_type": "execute_result"
    }
   ],
   "source": [
    "ukbb_ecgs = torch.load(\"/home/oturgut/sprai/data/preprocessed/ecg/ecgsRaw/ecgs_val_ecg_imaging.pt\")\n",
    "ukbb_ecgs.shape"
   ]
  },
  {
   "cell_type": "code",
   "execution_count": null,
   "metadata": {},
   "outputs": [
    {
     "data": {
      "text/plain": [
       "(6007, 12, 5000)"
      ]
     },
     "execution_count": 72,
     "metadata": {},
     "output_type": "execute_result"
    }
   ],
   "source": [
    "ukbb_ecgs_old = torch.load(\"/home/oturgut/sprai/data/preprocessed/ecg/ecgs_val_ecg_imaging_noBase_gn.pt\")\n",
    "ukbb_ecgs.shape"
   ]
  },
  {
   "cell_type": "code",
   "execution_count": null,
   "metadata": {},
   "outputs": [
    {
     "name": "stdout",
     "output_type": "stream",
     "text": [
      "torch.Size([6007, 12, 5000])\n"
     ]
    }
   ],
   "source": [
    "def process_ukbb_ecgs(data):\n",
    "    # remove nan\n",
    "    data = np.nan_to_num(data)\n",
    "    \n",
    "    # clamp\n",
    "    data_std = data.std()\n",
    "    data = np.clip(data, a_min=-4*data_std, a_max=4*data_std)\n",
    "\n",
    "    # remove baseline wander\n",
    "    baselines = np.zeros_like(data)\n",
    "    for lead in range(data.shape[0]):\n",
    "        baselines[lead] = baseline_als(data[lead], lam=1e7, p=0.3, niter=5)\n",
    "    data = data - baselines\n",
    "\n",
    "    # normalize data\n",
    "    transform = Normalization(mode=\"group_wise\", groups=[3, 6, 12])\n",
    "    data = transform(data)\n",
    "\n",
    "    return data\n",
    "\n",
    "\n",
    "if __name__ == \"__main__\":\n",
    "    # Define the number of processes\n",
    "    num_processes = 32\n",
    "\n",
    "    ukbb_ecgs = ukbb_ecgs.numpy()\n",
    "    ukbb_ecgs_processed = []\n",
    "\n",
    "    # Create a multiprocessing Pool\n",
    "    with multiprocessing.Pool(processes=num_processes) as pool:\n",
    "        # Map the function to each process and concatenate the results\n",
    "        ukbb_ecgs_processed.extend(pool.map(process_ukbb_ecgs, ukbb_ecgs))\n",
    "\n",
    "    ukbb_ecgs_processed = torch.tensor(np.array(ukbb_ecgs_processed), dtype=torch.float32)\n",
    "\n",
    "    print(ukbb_ecgs_processed.shape)"
   ]
  },
  {
   "cell_type": "code",
   "execution_count": null,
   "metadata": {},
   "outputs": [
    {
     "data": {
      "image/png": "[encoded data removed]",
      "text/plain": [
       "<Figure size 2000x400 with 1 Axes>"
      ]
     },
     "metadata": {},
     "output_type": "display_data"
    }
   ],
   "source": [
    "subject = 2555\n",
    "channel = 5\n",
    "\n",
    "plt.figure(figsize=(20, 4))\n",
    "plt.plot(ukbb_ecgs_processed[subject, channel], color='tab:orange', label='processed')\n",
    "plt.plot(ukbb_ecgs_old[subject, channel], color='tab:green', label='processed_old')\n",
    "plt.plot(ukbb_ecgs[subject, channel], color='tab:blue', label='original')\n",
    "plt.plot(np.zeros(5000), color='black', label='dc')\n",
    "plt.legend()\n",
    "plt.show()"
   ]
  },
  {
   "cell_type": "code",
   "execution_count": null,
   "metadata": {},
   "outputs": [
    {
     "data": {
      "image/png": "[encoded data removed]",
      "text/plain": [
       "<Figure size 2000x200 with 1 Axes>"
      ]
     },
     "metadata": {},
     "output_type": "display_data"
    }
   ],
   "source": [
    "subject = 2555\n",
    "channel = 5\n",
    "\n",
    "plt.figure(figsize=(20, 2))\n",
    "plt.plot(ukbb_ecgs_processed[subject, channel], color='tab:orange', label='processed')\n",
    "plt.plot(ukbb_ecgs_old[subject, channel], color='tab:green', label='processed_old')\n",
    "plt.plot(np.zeros(5000), color='black', label='dc')\n",
    "plt.legend()\n",
    "plt.show()"
   ]
  },
  {
   "cell_type": "code",
   "execution_count": null,
   "metadata": {},
   "outputs": [],
   "source": [
    "# torch.save(ukbb_ecgs_processed, '/home/oturgut/sprai/data/preprocessed/ecg/ukbb_ecgs_val_ecg_imaging_float32.pt')"
   ]
  },
  {
   "cell_type": "markdown",
   "metadata": {},
   "source": [
    "## TEXT DATA"
   ]
  },
  {
   "cell_type": "markdown",
   "metadata": {},
   "source": [
    "### Radiology"
   ]
  },
  {
   "cell_type": "code",
   "execution_count": null,
   "metadata": {},
   "outputs": [
    {
     "name": "stdout",
     "output_type": "stream",
     "text": [
      "6046121\n"
     ]
    },
    {
     "data": {
      "text/html": [
       "<div>\n",
       "<style scoped>\n",
       "    .dataframe tbody tr th:only-of-type {\n",
       "        vertical-align: middle;\n",
       "    }\n",
       "\n",
       "    .dataframe tbody tr th {\n",
       "        vertical-align: top;\n",
       "    }\n",
       "\n",
       "    .dataframe thead th {\n",
       "        text-align: right;\n",
       "    }\n",
       "</style>\n",
       "<table border=\"1\" class=\"dataframe\">\n",
       "  <thead>\n",
       "    <tr style=\"text-align: right;\">\n",
       "      <th></th>\n",
       "      <th>note_id</th>\n",
       "      <th>subject_id</th>\n",
       "      <th>field_name</th>\n",
       "      <th>field_value</th>\n",
       "      <th>field_ordinal</th>\n",
       "    </tr>\n",
       "  </thead>\n",
       "  <tbody>\n",
       "    <tr>\n",
       "      <th>0</th>\n",
       "      <td>10000032-RR-14</td>\n",
       "      <td>10000032</td>\n",
       "      <td>exam_code</td>\n",
       "      <td>C11</td>\n",
       "      <td>1</td>\n",
       "    </tr>\n",
       "    <tr>\n",
       "      <th>1</th>\n",
       "      <td>10000032-RR-14</td>\n",
       "      <td>10000032</td>\n",
       "      <td>exam_name</td>\n",
       "      <td>CHEST (PA &amp; LAT)</td>\n",
       "      <td>1</td>\n",
       "    </tr>\n",
       "    <tr>\n",
       "      <th>2</th>\n",
       "      <td>10000032-RR-15</td>\n",
       "      <td>10000032</td>\n",
       "      <td>exam_code</td>\n",
       "      <td>U314</td>\n",
       "      <td>1</td>\n",
       "    </tr>\n",
       "    <tr>\n",
       "      <th>3</th>\n",
       "      <td>10000032-RR-15</td>\n",
       "      <td>10000032</td>\n",
       "      <td>exam_code</td>\n",
       "      <td>U644</td>\n",
       "      <td>3</td>\n",
       "    </tr>\n",
       "    <tr>\n",
       "      <th>4</th>\n",
       "      <td>10000032-RR-15</td>\n",
       "      <td>10000032</td>\n",
       "      <td>exam_code</td>\n",
       "      <td>W82</td>\n",
       "      <td>2</td>\n",
       "    </tr>\n",
       "    <tr>\n",
       "      <th>5</th>\n",
       "      <td>10000032-RR-15</td>\n",
       "      <td>10000032</td>\n",
       "      <td>exam_name</td>\n",
       "      <td>-59 DISTINCT PROCEDURAL SERVICE</td>\n",
       "      <td>2</td>\n",
       "    </tr>\n",
       "    <tr>\n",
       "      <th>6</th>\n",
       "      <td>10000032-RR-15</td>\n",
       "      <td>10000032</td>\n",
       "      <td>exam_name</td>\n",
       "      <td>DUPLEX DOP ABD/PEL LIMITED</td>\n",
       "      <td>3</td>\n",
       "    </tr>\n",
       "    <tr>\n",
       "      <th>7</th>\n",
       "      <td>10000032-RR-15</td>\n",
       "      <td>10000032</td>\n",
       "      <td>exam_name</td>\n",
       "      <td>LIVER OR GALLBLADDER US (SINGLE ORGAN)</td>\n",
       "      <td>1</td>\n",
       "    </tr>\n",
       "    <tr>\n",
       "      <th>8</th>\n",
       "      <td>10000032-RR-16</td>\n",
       "      <td>10000032</td>\n",
       "      <td>exam_code</td>\n",
       "      <td>U321</td>\n",
       "      <td>1</td>\n",
       "    </tr>\n",
       "    <tr>\n",
       "      <th>9</th>\n",
       "      <td>10000032-RR-16</td>\n",
       "      <td>10000032</td>\n",
       "      <td>exam_name</td>\n",
       "      <td>PARACENTESIS DIAG/THERAP W IMAGING GUID</td>\n",
       "      <td>1</td>\n",
       "    </tr>\n",
       "  </tbody>\n",
       "</table>\n",
       "</div>"
      ],
      "text/plain": [
       "          note_id  subject_id field_name  \\\n",
       "0  10000032-RR-14    10000032  exam_code   \n",
       "1  10000032-RR-14    10000032  exam_name   \n",
       "2  10000032-RR-15    10000032  exam_code   \n",
       "3  10000032-RR-15    10000032  exam_code   \n",
       "4  10000032-RR-15    10000032  exam_code   \n",
       "5  10000032-RR-15    10000032  exam_name   \n",
       "6  10000032-RR-15    10000032  exam_name   \n",
       "7  10000032-RR-15    10000032  exam_name   \n",
       "8  10000032-RR-16    10000032  exam_code   \n",
       "9  10000032-RR-16    10000032  exam_name   \n",
       "\n",
       "                               field_value  field_ordinal  \n",
       "0                                      C11              1  \n",
       "1                         CHEST (PA & LAT)              1  \n",
       "2                                     U314              1  \n",
       "3                                     U644              3  \n",
       "4                                      W82              2  \n",
       "5          -59 DISTINCT PROCEDURAL SERVICE              2  \n",
       "6               DUPLEX DOP ABD/PEL LIMITED              3  \n",
       "7   LIVER OR GALLBLADDER US (SINGLE ORGAN)              1  \n",
       "8                                     U321              1  \n",
       "9  PARACENTESIS DIAG/THERAP W IMAGING GUID              1  "
      ]
     },
     "execution_count": 4,
     "metadata": {},
     "output_type": "execute_result"
    }
   ],
   "source": [
    "# load radiology details (this is not the dataset, only headers)\n",
    "radiology_detail = pd.read_csv('/home/oturgut/data/mimic-iv-note/2.2/note/radiology_detail.csv.gz', compression='gzip')\n",
    "print(len(radiology_detail))\n",
    "radiology_detail[:10]"
   ]
  },
  {
   "cell_type": "code",
   "execution_count": null,
   "metadata": {},
   "outputs": [],
   "source": [
    "# load entire radiology dataset\n",
    "radiology_data = pd.read_csv('/home/oturgut/data/mimic-iv-note/2.2/note/radiology.csv.gz', compression='gzip')"
   ]
  },
  {
   "cell_type": "code",
   "execution_count": null,
   "metadata": {},
   "outputs": [
    {
     "data": {
      "text/plain": [
       "(237427,)"
      ]
     },
     "execution_count": 6,
     "metadata": {},
     "output_type": "execute_result"
    }
   ],
   "source": [
    "# check number of unique radiology subjects\n",
    "radiology_subjects = radiology_data[\"subject_id\"].unique()\n",
    "radiology_subjects.shape"
   ]
  },
  {
   "cell_type": "code",
   "execution_count": null,
   "metadata": {},
   "outputs": [
    {
     "name": "stdout",
     "output_type": "stream",
     "text": [
      "(100741,)\n"
     ]
    }
   ],
   "source": [
    "# determine the set of subjects that have paired ecg and radiology data \n",
    "overlapping_subjects = []\n",
    "for idx, subj in enumerate(ecg_subjects[:]):\n",
    "    if subj in radiology_subjects:\n",
    "        overlapping_subjects.append(subj)\n",
    "\n",
    "overlapping_subject_ids = np.array(overlapping_subjects)\n",
    "print(overlapping_subject_ids.shape)"
   ]
  },
  {
   "cell_type": "markdown",
   "metadata": {},
   "source": [
    "#### Parsing"
   ]
  },
  {
   "cell_type": "code",
   "execution_count": null,
   "metadata": {},
   "outputs": [],
   "source": [
    "radiology_note_ids = torch.load(\"/home/oturgut/data/processed/mimic-ecg-text/radiology_reports_note_id.pt\")"
   ]
  },
  {
   "cell_type": "code",
   "execution_count": null,
   "metadata": {},
   "outputs": [
    {
     "name": "stdout",
     "output_type": "stream",
     "text": [
      "INDICATION:  Productive cough and intermittent shortness of breath.\n",
      "\n",
      "COMPARISON:  None.\n",
      "\n",
      "PA AND LATERAL VIEWS OF THE CHEST:  The cardiac, mediastinal and hilar\n",
      "contours are normal.  The lungs are clear.  No pleural effusion or\n",
      "pneumothorax is present.  There are no acute osseous findings.\n",
      "\n",
      "IMPRESSION:  No acute cardiopulmonary process.\n",
      "\n"
     ]
    }
   ],
   "source": [
    "# show exemplary report\n",
    "report_id = 2000\n",
    "txt = radiology_data['text'][report_id]\n",
    "print(txt)"
   ]
  },
  {
   "cell_type": "code",
   "execution_count": null,
   "metadata": {},
   "outputs": [],
   "source": [
    "# parse the FINDINGS and IMPRESSION sections\n",
    "def extract_sections(report_text):\n",
    "    # Define patterns for FINDINGS and IMPRESSION sections\n",
    "    findings_pattern = re.compile(r'FINDINGS:(.*?)(IMPRESSION:|$)', re.DOTALL)\n",
    "    impression_pattern = re.compile(r'IMPRESSION:(.*?)(?=$|\\Z)', re.DOTALL)\n",
    "\n",
    "    # Find matches for FINDINGS and IMPRESSION sections\n",
    "    findings_match = findings_pattern.search(report_text)\n",
    "    impression_match = impression_pattern.search(report_text)\n",
    "\n",
    "    # Extract text from the matched groups, handling missing sections\n",
    "    findings_text = findings_match.group(1).strip().replace('\\n', ' ') if findings_match else None\n",
    "    impression_text = impression_match.group(1).strip().replace('\\n', ' ') if impression_match else None\n",
    "\n",
    "    # Remove underscores\n",
    "    if findings_text:\n",
    "        findings_text = ' '.join(findings_text.replace('_', '').split())\n",
    "    if impression_text:\n",
    "        impression_text = ' '.join(impression_text.replace('_', '').split())\n",
    "\n",
    "    # Split the sections into sentences, considering numerical listings\n",
    "    findings_sentences = re.split(r'(?<!\\d\\.)(?<=\\.|\\?)\\s', findings_text) if findings_text else []\n",
    "    impression_sentences = re.split(r'(?<!\\d\\.)(?<=\\.|\\?)\\s', impression_text) if impression_text else []\n",
    "\n",
    "    return findings_sentences, impression_sentences"
   ]
  },
  {
   "cell_type": "code",
   "execution_count": null,
   "metadata": {},
   "outputs": [
    {
     "name": "stdout",
     "output_type": "stream",
     "text": [
      "['Compared with , I doubt significant interval change.', 'Again seen is asymmetric pleural thickening at the right lung apex, with apparent retraction of the minor fissure.', 'The cardiomediastinal silhouette is unchanged.', 'There is probably very slight upper zone redistribution, but I doubt overt CHF.', 'Possible minimal blunting of the right costophrenic angle, which is not clearly changed.', 'No focal consolidation or gross effusion is identified.', 'The cardiomediastinal silhouette is borderline enlarged with a calcified slightly unfolded aorta, but is unchanged.', 'Incidental note is made of a probable large subchondral cyst in the left glenoid.']\n",
      "['No significant change detected compared with .', 'Right apical pleural thickening, with apparent retraction of the mild fissure, again noted.', 'Upper zone redistribution and minimal blunting of the right costophrenic angle are probably unchanged, allowing for technical differences.']\n"
     ]
    }
   ],
   "source": [
    "findings, impression = extract_sections(txt)\n",
    "print(findings)\n",
    "print(impression)"
   ]
  },
  {
   "cell_type": "code",
   "execution_count": null,
   "metadata": {},
   "outputs": [
    {
     "data": {
      "text/plain": [
       "['Compared with , I doubt significant interval change.',\n",
       " 'Again seen is asymmetric pleural thickening at the right lung apex, with apparent retraction of the minor fissure.',\n",
       " 'The cardiomediastinal silhouette is unchanged.',\n",
       " 'There is probably very slight upper zone redistribution, but I doubt overt CHF.',\n",
       " 'Possible minimal blunting of the right costophrenic angle, which is not clearly changed.',\n",
       " 'No focal consolidation or gross effusion is identified.',\n",
       " 'The cardiomediastinal silhouette is borderline enlarged with a calcified slightly unfolded aorta, but is unchanged.',\n",
       " 'Incidental note is made of a probable large subchondral cyst in the left glenoid.']"
      ]
     },
     "execution_count": 51,
     "metadata": {},
     "output_type": "execute_result"
    }
   ],
   "source": [
    "findings"
   ]
  },
  {
   "cell_type": "code",
   "execution_count": null,
   "metadata": {},
   "outputs": [
    {
     "data": {
      "text/plain": [
       "['No significant change detected compared with .',\n",
       " 'Right apical pleural thickening, with apparent retraction of the mild fissure, again noted.',\n",
       " 'Upper zone redistribution and minimal blunting of the right costophrenic angle are probably unchanged, allowing for technical differences.']"
      ]
     },
     "execution_count": 52,
     "metadata": {},
     "output_type": "execute_result"
    }
   ],
   "source": [
    "impression"
   ]
  },
  {
   "cell_type": "code",
   "execution_count": null,
   "metadata": {},
   "outputs": [],
   "source": [
    "def extract_sections(report_text):\n",
    "    # Define patterns for FINDINGS and IMPRESSION sections\n",
    "    findings_pattern = re.compile(r'FINDINGS:(.*?)(IMPRESSION:|$)', re.DOTALL)\n",
    "    impression_pattern = re.compile(r'IMPRESSION:(.*?)(?=$|\\Z)', re.DOTALL)\n",
    "\n",
    "    # Find matches for FINDINGS and IMPRESSION sections\n",
    "    findings_match = findings_pattern.search(report_text)\n",
    "    impression_match = impression_pattern.search(report_text)\n",
    "\n",
    "    # Extract text from the matched groups, handling missing sections\n",
    "    findings_text = findings_match.group(1).strip().replace('\\n', ' ') if findings_match else None\n",
    "    impression_text = impression_match.group(1).strip().replace('\\n', ' ') if impression_match else None\n",
    "\n",
    "    # Remove underscores\n",
    "    if findings_text:\n",
    "        findings_text = ' '.join(findings_text.replace('_', '').split())\n",
    "    if impression_text:\n",
    "        impression_text = ' '.join(impression_text.replace('_', '').split())\n",
    "\n",
    "    # Split the sections into sentences, considering numerical listings\n",
    "    findings_sentences = re.split(r'(?<!\\d\\.)(?<=\\.|\\?)\\s', findings_text) if findings_text else []\n",
    "    impression_sentences = re.split(r'(?<!\\d\\.)(?<=\\.|\\?)\\s', impression_text) if impression_text else []\n",
    "\n",
    "    return findings_sentences, impression_sentences"
   ]
  },
  {
   "cell_type": "code",
   "execution_count": null,
   "metadata": {},
   "outputs": [
    {
     "name": "stdout",
     "output_type": "stream",
     "text": [
      "EXAMINATION:  PELVIS U.S., TRANSVAGINAL\n",
      "\n",
      "INDICATION:  History: ___ with 5 weeks of vaginal bleeding soaking through 1\n",
      "pads per 2 hours.// ?fibroid, mass or cause of bleed\n",
      "\n",
      "Perimenopausal.\n",
      "\n",
      "TECHNIQUE:  Grayscale ultrasound images of the pelvis were obtained with\n",
      "transabdominal approach followed by transvaginal approach for further\n",
      "delineation of uterine and ovarian anatomy.\n",
      "\n",
      "COMPARISON:  CT of the abdomen pelvis from ___\n",
      "\n",
      "FINDINGS: \n",
      "\n",
      "The uterus is anteverted and measures 10 x 5.8 x 8.2 cm. The endometrium is\n",
      "homogenous and measures 5 mm.  Myometrium is heterogeneous with peripheral\n",
      "cystic spaces.\n",
      "\n",
      "The ovaries are normal. There is no free fluid.\n",
      "\n",
      "IMPRESSION:\n",
      "\n",
      "\n",
      "1. Findings may suggest adenomyosis.  If confirmation is required, MRI could\n",
      "be obtained.\n",
      "2. Normal endometrium.  No definite fibroid.\n",
      "3. Normal ovaries.\n",
      "\n"
     ]
    }
   ],
   "source": [
    "subj = 2000\n",
    "print(radiology_data[radiology_data[\"note_id\"] == radiology_note_ids[subj]][\"text\"].values[0])"
   ]
  },
  {
   "cell_type": "code",
   "execution_count": null,
   "metadata": {},
   "outputs": [
    {
     "data": {
      "text/plain": [
       "['The uterus is anteverted and measures 10 x 5.8 x 8.2 cm.',\n",
       " 'The endometrium is homogenous and measures 5 mm.',\n",
       " 'Myometrium is heterogeneous with peripheral cystic spaces.',\n",
       " 'The ovaries are normal.',\n",
       " 'There is no free fluid.']"
      ]
     },
     "metadata": {},
     "output_type": "display_data"
    },
    {
     "data": {
      "text/plain": [
       "['1. Findings may suggest adenomyosis.',\n",
       " 'If confirmation is required, MRI could be obtained.',\n",
       " '2. Normal endometrium.',\n",
       " 'No definite fibroid.',\n",
       " '3. Normal ovaries.']"
      ]
     },
     "metadata": {},
     "output_type": "display_data"
    }
   ],
   "source": [
    "findings, impression = extract_sections(radiology_data[radiology_data[\"note_id\"] == radiology_note_ids[subj]]['text'].values[0])\n",
    "display(findings)\n",
    "display(impression)"
   ]
  },
  {
   "cell_type": "markdown",
   "metadata": {},
   "source": [
    "## CREATE DATASET"
   ]
  },
  {
   "cell_type": "markdown",
   "metadata": {},
   "source": [
    "#### Example"
   ]
  },
  {
   "cell_type": "code",
   "execution_count": null,
   "metadata": {},
   "outputs": [
    {
     "name": "stdout",
     "output_type": "stream",
     "text": [
      "Nb of total subjects: 100741\n",
      "\n",
      "Subject 10000032\n",
      "Nb of ECGs: 3\n",
      "Nb of reports: 24\n"
     ]
    }
   ],
   "source": [
    "print(f\"Nb of total subjects: {len(overlapping_subject_ids)}\\n\")\n",
    "\n",
    "subj = 0\n",
    "print(f\"Subject {overlapping_subject_ids[subj]}\")\n",
    "print(f\"Nb of ECGs: {len(ecg_detail[ecg_detail['subject_id']==overlapping_subject_ids[subj]])}\")\n",
    "print(f\"Nb of reports: {len(radiology_data[radiology_data['subject_id']==overlapping_subject_ids[subj]])}\")"
   ]
  },
  {
   "cell_type": "code",
   "execution_count": null,
   "metadata": {},
   "outputs": [
    {
     "name": "stdout",
     "output_type": "stream",
     "text": [
      "609272\n"
     ]
    },
    {
     "data": {
      "text/html": [
       "<div>\n",
       "<style scoped>\n",
       "    .dataframe tbody tr th:only-of-type {\n",
       "        vertical-align: middle;\n",
       "    }\n",
       "\n",
       "    .dataframe tbody tr th {\n",
       "        vertical-align: top;\n",
       "    }\n",
       "\n",
       "    .dataframe thead th {\n",
       "        text-align: right;\n",
       "    }\n",
       "</style>\n",
       "<table border=\"1\" class=\"dataframe\">\n",
       "  <thead>\n",
       "    <tr style=\"text-align: right;\">\n",
       "      <th></th>\n",
       "      <th>subject_id</th>\n",
       "      <th>study_id</th>\n",
       "      <th>waveform_path</th>\n",
       "      <th>note_id</th>\n",
       "      <th>note_seq</th>\n",
       "      <th>charttime</th>\n",
       "    </tr>\n",
       "  </thead>\n",
       "  <tbody>\n",
       "    <tr>\n",
       "      <th>0</th>\n",
       "      <td>10000032</td>\n",
       "      <td>40689238</td>\n",
       "      <td>files/p1000/p10000032/s40689238/40689238</td>\n",
       "      <td>10000032-EK-4</td>\n",
       "      <td>4</td>\n",
       "      <td>2180-07-23 08:44:00</td>\n",
       "    </tr>\n",
       "    <tr>\n",
       "      <th>1</th>\n",
       "      <td>10000032</td>\n",
       "      <td>44458630</td>\n",
       "      <td>files/p1000/p10000032/s44458630/44458630</td>\n",
       "      <td>10000032-EK-5</td>\n",
       "      <td>5</td>\n",
       "      <td>2180-07-23 09:54:00</td>\n",
       "    </tr>\n",
       "    <tr>\n",
       "      <th>2</th>\n",
       "      <td>10000032</td>\n",
       "      <td>49036311</td>\n",
       "      <td>files/p1000/p10000032/s49036311/49036311</td>\n",
       "      <td>10000032-EK-6</td>\n",
       "      <td>6</td>\n",
       "      <td>2180-08-06 09:07:00</td>\n",
       "    </tr>\n",
       "  </tbody>\n",
       "</table>\n",
       "</div>"
      ],
      "text/plain": [
       "   subject_id  study_id                             waveform_path  \\\n",
       "0    10000032  40689238  files/p1000/p10000032/s40689238/40689238   \n",
       "1    10000032  44458630  files/p1000/p10000032/s44458630/44458630   \n",
       "2    10000032  49036311  files/p1000/p10000032/s49036311/49036311   \n",
       "\n",
       "         note_id  note_seq            charttime  \n",
       "0  10000032-EK-4         4  2180-07-23 08:44:00  \n",
       "1  10000032-EK-5         5  2180-07-23 09:54:00  \n",
       "2  10000032-EK-6         6  2180-08-06 09:07:00  "
      ]
     },
     "execution_count": 29,
     "metadata": {},
     "output_type": "execute_result"
    }
   ],
   "source": [
    "print(len(ecg_detail))\n",
    "ecg_df = ecg_detail[ecg_detail['subject_id']==overlapping_subject_ids[subj]]\n",
    "ecg_df"
   ]
  },
  {
   "cell_type": "code",
   "execution_count": null,
   "metadata": {},
   "outputs": [
    {
     "name": "stdout",
     "output_type": "stream",
     "text": [
      "2321355\n"
     ]
    },
    {
     "data": {
      "text/html": [
       "<div>\n",
       "<style scoped>\n",
       "    .dataframe tbody tr th:only-of-type {\n",
       "        vertical-align: middle;\n",
       "    }\n",
       "\n",
       "    .dataframe tbody tr th {\n",
       "        vertical-align: top;\n",
       "    }\n",
       "\n",
       "    .dataframe thead th {\n",
       "        text-align: right;\n",
       "    }\n",
       "</style>\n",
       "<table border=\"1\" class=\"dataframe\">\n",
       "  <thead>\n",
       "    <tr style=\"text-align: right;\">\n",
       "      <th></th>\n",
       "      <th>note_id</th>\n",
       "      <th>subject_id</th>\n",
       "      <th>hadm_id</th>\n",
       "      <th>note_type</th>\n",
       "      <th>note_seq</th>\n",
       "      <th>charttime</th>\n",
       "      <th>storetime</th>\n",
       "      <th>text</th>\n",
       "    </tr>\n",
       "  </thead>\n",
       "  <tbody>\n",
       "    <tr>\n",
       "      <th>0</th>\n",
       "      <td>10000032-RR-14</td>\n",
       "      <td>10000032</td>\n",
       "      <td>22595853.0</td>\n",
       "      <td>RR</td>\n",
       "      <td>14</td>\n",
       "      <td>2180-05-06 21:19:00</td>\n",
       "      <td>2180-05-06 23:32:00</td>\n",
       "      <td>EXAMINATION:  CHEST (PA AND LAT)\\n\\nINDICATION...</td>\n",
       "    </tr>\n",
       "    <tr>\n",
       "      <th>1</th>\n",
       "      <td>10000032-RR-15</td>\n",
       "      <td>10000032</td>\n",
       "      <td>22595853.0</td>\n",
       "      <td>RR</td>\n",
       "      <td>15</td>\n",
       "      <td>2180-05-06 23:00:00</td>\n",
       "      <td>2180-05-06 23:26:00</td>\n",
       "      <td>EXAMINATION:  LIVER OR GALLBLADDER US (SINGLE ...</td>\n",
       "    </tr>\n",
       "    <tr>\n",
       "      <th>2</th>\n",
       "      <td>10000032-RR-16</td>\n",
       "      <td>10000032</td>\n",
       "      <td>22595853.0</td>\n",
       "      <td>RR</td>\n",
       "      <td>16</td>\n",
       "      <td>2180-05-07 09:55:00</td>\n",
       "      <td>2180-05-07 11:15:00</td>\n",
       "      <td>INDICATION:  ___ HCV cirrhosis c/b ascites, hi...</td>\n",
       "    </tr>\n",
       "    <tr>\n",
       "      <th>3</th>\n",
       "      <td>10000032-RR-18</td>\n",
       "      <td>10000032</td>\n",
       "      <td>NaN</td>\n",
       "      <td>RR</td>\n",
       "      <td>18</td>\n",
       "      <td>2180-06-03 12:46:00</td>\n",
       "      <td>2180-06-03 14:01:00</td>\n",
       "      <td>EXAMINATION:  Ultrasound-guided paracentesis.\\...</td>\n",
       "    </tr>\n",
       "    <tr>\n",
       "      <th>4</th>\n",
       "      <td>10000032-RR-20</td>\n",
       "      <td>10000032</td>\n",
       "      <td>NaN</td>\n",
       "      <td>RR</td>\n",
       "      <td>20</td>\n",
       "      <td>2180-07-08 13:18:00</td>\n",
       "      <td>2180-07-08 14:15:00</td>\n",
       "      <td>EXAMINATION:  Paracentesis\\n\\nINDICATION:  ___...</td>\n",
       "    </tr>\n",
       "    <tr>\n",
       "      <th>5</th>\n",
       "      <td>10000032-RR-21</td>\n",
       "      <td>10000032</td>\n",
       "      <td>NaN</td>\n",
       "      <td>RR</td>\n",
       "      <td>21</td>\n",
       "      <td>2180-06-30 08:16:00</td>\n",
       "      <td>2180-06-30 12:58:00</td>\n",
       "      <td>EXAMINATION:  ULTRASOUND INTERVENTIONAL PROCED...</td>\n",
       "    </tr>\n",
       "    <tr>\n",
       "      <th>6</th>\n",
       "      <td>10000032-RR-22</td>\n",
       "      <td>10000032</td>\n",
       "      <td>22841357.0</td>\n",
       "      <td>RR</td>\n",
       "      <td>22</td>\n",
       "      <td>2180-06-26 17:15:00</td>\n",
       "      <td>2180-06-26 19:28:00</td>\n",
       "      <td>EXAMINATION:  LIVER OR GALLBLADDER US (SINGLE ...</td>\n",
       "    </tr>\n",
       "    <tr>\n",
       "      <th>7</th>\n",
       "      <td>10000032-RR-23</td>\n",
       "      <td>10000032</td>\n",
       "      <td>22841357.0</td>\n",
       "      <td>RR</td>\n",
       "      <td>23</td>\n",
       "      <td>2180-06-26 17:17:00</td>\n",
       "      <td>2180-06-26 17:28:00</td>\n",
       "      <td>EXAMINATION:  CHEST (PA AND LAT)\\n\\nINDICATION...</td>\n",
       "    </tr>\n",
       "    <tr>\n",
       "      <th>8</th>\n",
       "      <td>10000032-RR-24</td>\n",
       "      <td>10000032</td>\n",
       "      <td>NaN</td>\n",
       "      <td>RR</td>\n",
       "      <td>24</td>\n",
       "      <td>2180-07-22 12:40:00</td>\n",
       "      <td>2180-07-22 18:33:00</td>\n",
       "      <td>EXAMINATION:  Ultrasound-guided paracentesis.\\...</td>\n",
       "    </tr>\n",
       "    <tr>\n",
       "      <th>9</th>\n",
       "      <td>10000032-RR-27</td>\n",
       "      <td>10000032</td>\n",
       "      <td>NaN</td>\n",
       "      <td>RR</td>\n",
       "      <td>27</td>\n",
       "      <td>2180-07-12 13:35:00</td>\n",
       "      <td>2180-07-12 17:29:00</td>\n",
       "      <td>EXAMINATION:  Ultrasound-guided paracentesis.\\...</td>\n",
       "    </tr>\n",
       "    <tr>\n",
       "      <th>10</th>\n",
       "      <td>10000032-RR-28</td>\n",
       "      <td>10000032</td>\n",
       "      <td>NaN</td>\n",
       "      <td>RR</td>\n",
       "      <td>28</td>\n",
       "      <td>2180-07-15 12:47:00</td>\n",
       "      <td>2180-07-15 14:31:00</td>\n",
       "      <td>EXAMINATION:  ULTRASOUND PARACENTESIS\\n\\nINDIC...</td>\n",
       "    </tr>\n",
       "    <tr>\n",
       "      <th>11</th>\n",
       "      <td>10000032-RR-29</td>\n",
       "      <td>10000032</td>\n",
       "      <td>NaN</td>\n",
       "      <td>RR</td>\n",
       "      <td>29</td>\n",
       "      <td>2180-07-19 13:05:00</td>\n",
       "      <td>2180-07-19 14:42:00</td>\n",
       "      <td>EXAMINATION:  Ultrasound-guided paracentesis.\\...</td>\n",
       "    </tr>\n",
       "    <tr>\n",
       "      <th>12</th>\n",
       "      <td>10000032-RR-31</td>\n",
       "      <td>10000032</td>\n",
       "      <td>NaN</td>\n",
       "      <td>RR</td>\n",
       "      <td>31</td>\n",
       "      <td>2180-07-30 09:50:00</td>\n",
       "      <td>2180-07-30 11:06:00</td>\n",
       "      <td>EXAMINATION:  PARACENTESIS\\n\\nINDICATION:  ___...</td>\n",
       "    </tr>\n",
       "    <tr>\n",
       "      <th>13</th>\n",
       "      <td>10000032-RR-32</td>\n",
       "      <td>10000032</td>\n",
       "      <td>NaN</td>\n",
       "      <td>RR</td>\n",
       "      <td>32</td>\n",
       "      <td>2180-07-27 09:03:00</td>\n",
       "      <td>2180-07-27 10:24:00</td>\n",
       "      <td>EXAMINATION:  THERAPEUTIC PARACENTESIS\\n\\nINDI...</td>\n",
       "    </tr>\n",
       "    <tr>\n",
       "      <th>14</th>\n",
       "      <td>10000032-RR-33</td>\n",
       "      <td>10000032</td>\n",
       "      <td>25742920.0</td>\n",
       "      <td>RR</td>\n",
       "      <td>33</td>\n",
       "      <td>2180-08-06 10:16:00</td>\n",
       "      <td>2180-08-06 11:50:00</td>\n",
       "      <td>EXAMINATION:  PARACENTESIS\\n\\nINDICATION:  ___...</td>\n",
       "    </tr>\n",
       "    <tr>\n",
       "      <th>15</th>\n",
       "      <td>10000032-RR-35</td>\n",
       "      <td>10000032</td>\n",
       "      <td>NaN</td>\n",
       "      <td>RR</td>\n",
       "      <td>35</td>\n",
       "      <td>2180-08-13 11:27:00</td>\n",
       "      <td>2180-08-13 12:11:00</td>\n",
       "      <td>INDICATION:  ___ year old woman with cirrhosis...</td>\n",
       "    </tr>\n",
       "    <tr>\n",
       "      <th>16</th>\n",
       "      <td>10000032-RR-42</td>\n",
       "      <td>10000032</td>\n",
       "      <td>NaN</td>\n",
       "      <td>RR</td>\n",
       "      <td>42</td>\n",
       "      <td>2180-08-02 10:31:00</td>\n",
       "      <td>2180-08-02 11:36:00</td>\n",
       "      <td>EXAMINATION:  PARACENTESIS\\n\\nINDICATION:  ___...</td>\n",
       "    </tr>\n",
       "    <tr>\n",
       "      <th>17</th>\n",
       "      <td>10000032-RR-44</td>\n",
       "      <td>10000032</td>\n",
       "      <td>29079034.0</td>\n",
       "      <td>RR</td>\n",
       "      <td>44</td>\n",
       "      <td>2180-07-23 06:14:00</td>\n",
       "      <td>2180-07-23 10:46:00</td>\n",
       "      <td>EXAMINATION:  CT HEAD W/O CONTRAST\\n\\nINDICATI...</td>\n",
       "    </tr>\n",
       "    <tr>\n",
       "      <th>18</th>\n",
       "      <td>10000032-RR-45</td>\n",
       "      <td>10000032</td>\n",
       "      <td>29079034.0</td>\n",
       "      <td>RR</td>\n",
       "      <td>45</td>\n",
       "      <td>2180-07-23 08:01:00</td>\n",
       "      <td>2180-07-23 11:31:00</td>\n",
       "      <td>EXAMINATION:  CHEST (PORTABLE AP)\\n\\nINDICATIO...</td>\n",
       "    </tr>\n",
       "    <tr>\n",
       "      <th>19</th>\n",
       "      <td>10000032-RR-46</td>\n",
       "      <td>10000032</td>\n",
       "      <td>25742920.0</td>\n",
       "      <td>RR</td>\n",
       "      <td>46</td>\n",
       "      <td>2180-08-05 23:35:00</td>\n",
       "      <td>2180-08-06 03:05:00</td>\n",
       "      <td>INDICATION:  ___ year old woman with cirrhosis...</td>\n",
       "    </tr>\n",
       "    <tr>\n",
       "      <th>20</th>\n",
       "      <td>10000032-RR-47</td>\n",
       "      <td>10000032</td>\n",
       "      <td>25742920.0</td>\n",
       "      <td>RR</td>\n",
       "      <td>47</td>\n",
       "      <td>2180-08-06 10:15:00</td>\n",
       "      <td>2180-08-06 15:53:00</td>\n",
       "      <td>EXAMINATION:  LIVER OR GALLBLADDER US (SINGLE ...</td>\n",
       "    </tr>\n",
       "    <tr>\n",
       "      <th>21</th>\n",
       "      <td>10000032-RR-48</td>\n",
       "      <td>10000032</td>\n",
       "      <td>NaN</td>\n",
       "      <td>RR</td>\n",
       "      <td>48</td>\n",
       "      <td>2180-08-10 13:08:00</td>\n",
       "      <td>2180-08-10 13:58:00</td>\n",
       "      <td>EXAMINATION:  PARACENTESIS/US-GUIDED\\n\\nINDICA...</td>\n",
       "    </tr>\n",
       "    <tr>\n",
       "      <th>22</th>\n",
       "      <td>10000032-RR-51</td>\n",
       "      <td>10000032</td>\n",
       "      <td>NaN</td>\n",
       "      <td>RR</td>\n",
       "      <td>51</td>\n",
       "      <td>2180-08-16 11:00:00</td>\n",
       "      <td>2180-08-16 12:56:00</td>\n",
       "      <td>INDICATION:  ___ year old woman with cirrhosis...</td>\n",
       "    </tr>\n",
       "    <tr>\n",
       "      <th>23</th>\n",
       "      <td>10000032-RR-54</td>\n",
       "      <td>10000032</td>\n",
       "      <td>NaN</td>\n",
       "      <td>RR</td>\n",
       "      <td>54</td>\n",
       "      <td>2180-08-20 10:49:00</td>\n",
       "      <td>2180-08-20 18:38:00</td>\n",
       "      <td>INDICATION:  ___ year old woman with cirrhosis...</td>\n",
       "    </tr>\n",
       "  </tbody>\n",
       "</table>\n",
       "</div>"
      ],
      "text/plain": [
       "           note_id  subject_id     hadm_id note_type  note_seq  \\\n",
       "0   10000032-RR-14    10000032  22595853.0        RR        14   \n",
       "1   10000032-RR-15    10000032  22595853.0        RR        15   \n",
       "2   10000032-RR-16    10000032  22595853.0        RR        16   \n",
       "3   10000032-RR-18    10000032         NaN        RR        18   \n",
       "4   10000032-RR-20    10000032         NaN        RR        20   \n",
       "5   10000032-RR-21    10000032         NaN        RR        21   \n",
       "6   10000032-RR-22    10000032  22841357.0        RR        22   \n",
       "7   10000032-RR-23    10000032  22841357.0        RR        23   \n",
       "8   10000032-RR-24    10000032         NaN        RR        24   \n",
       "9   10000032-RR-27    10000032         NaN        RR        27   \n",
       "10  10000032-RR-28    10000032         NaN        RR        28   \n",
       "11  10000032-RR-29    10000032         NaN        RR        29   \n",
       "12  10000032-RR-31    10000032         NaN        RR        31   \n",
       "13  10000032-RR-32    10000032         NaN        RR        32   \n",
       "14  10000032-RR-33    10000032  25742920.0        RR        33   \n",
       "15  10000032-RR-35    10000032         NaN        RR        35   \n",
       "16  10000032-RR-42    10000032         NaN        RR        42   \n",
       "17  10000032-RR-44    10000032  29079034.0        RR        44   \n",
       "18  10000032-RR-45    10000032  29079034.0        RR        45   \n",
       "19  10000032-RR-46    10000032  25742920.0        RR        46   \n",
       "20  10000032-RR-47    10000032  25742920.0        RR        47   \n",
       "21  10000032-RR-48    10000032         NaN        RR        48   \n",
       "22  10000032-RR-51    10000032         NaN        RR        51   \n",
       "23  10000032-RR-54    10000032         NaN        RR        54   \n",
       "\n",
       "              charttime            storetime  \\\n",
       "0   2180-05-06 21:19:00  2180-05-06 23:32:00   \n",
       "1   2180-05-06 23:00:00  2180-05-06 23:26:00   \n",
       "2   2180-05-07 09:55:00  2180-05-07 11:15:00   \n",
       "3   2180-06-03 12:46:00  2180-06-03 14:01:00   \n",
       "4   2180-07-08 13:18:00  2180-07-08 14:15:00   \n",
       "5   2180-06-30 08:16:00  2180-06-30 12:58:00   \n",
       "6   2180-06-26 17:15:00  2180-06-26 19:28:00   \n",
       "7   2180-06-26 17:17:00  2180-06-26 17:28:00   \n",
       "8   2180-07-22 12:40:00  2180-07-22 18:33:00   \n",
       "9   2180-07-12 13:35:00  2180-07-12 17:29:00   \n",
       "10  2180-07-15 12:47:00  2180-07-15 14:31:00   \n",
       "11  2180-07-19 13:05:00  2180-07-19 14:42:00   \n",
       "12  2180-07-30 09:50:00  2180-07-30 11:06:00   \n",
       "13  2180-07-27 09:03:00  2180-07-27 10:24:00   \n",
       "14  2180-08-06 10:16:00  2180-08-06 11:50:00   \n",
       "15  2180-08-13 11:27:00  2180-08-13 12:11:00   \n",
       "16  2180-08-02 10:31:00  2180-08-02 11:36:00   \n",
       "17  2180-07-23 06:14:00  2180-07-23 10:46:00   \n",
       "18  2180-07-23 08:01:00  2180-07-23 11:31:00   \n",
       "19  2180-08-05 23:35:00  2180-08-06 03:05:00   \n",
       "20  2180-08-06 10:15:00  2180-08-06 15:53:00   \n",
       "21  2180-08-10 13:08:00  2180-08-10 13:58:00   \n",
       "22  2180-08-16 11:00:00  2180-08-16 12:56:00   \n",
       "23  2180-08-20 10:49:00  2180-08-20 18:38:00   \n",
       "\n",
       "                                                 text  \n",
       "0   EXAMINATION:  CHEST (PA AND LAT)\\n\\nINDICATION...  \n",
       "1   EXAMINATION:  LIVER OR GALLBLADDER US (SINGLE ...  \n",
       "2   INDICATION:  ___ HCV cirrhosis c/b ascites, hi...  \n",
       "3   EXAMINATION:  Ultrasound-guided paracentesis.\\...  \n",
       "4   EXAMINATION:  Paracentesis\\n\\nINDICATION:  ___...  \n",
       "5   EXAMINATION:  ULTRASOUND INTERVENTIONAL PROCED...  \n",
       "6   EXAMINATION:  LIVER OR GALLBLADDER US (SINGLE ...  \n",
       "7   EXAMINATION:  CHEST (PA AND LAT)\\n\\nINDICATION...  \n",
       "8   EXAMINATION:  Ultrasound-guided paracentesis.\\...  \n",
       "9   EXAMINATION:  Ultrasound-guided paracentesis.\\...  \n",
       "10  EXAMINATION:  ULTRASOUND PARACENTESIS\\n\\nINDIC...  \n",
       "11  EXAMINATION:  Ultrasound-guided paracentesis.\\...  \n",
       "12  EXAMINATION:  PARACENTESIS\\n\\nINDICATION:  ___...  \n",
       "13  EXAMINATION:  THERAPEUTIC PARACENTESIS\\n\\nINDI...  \n",
       "14  EXAMINATION:  PARACENTESIS\\n\\nINDICATION:  ___...  \n",
       "15  INDICATION:  ___ year old woman with cirrhosis...  \n",
       "16  EXAMINATION:  PARACENTESIS\\n\\nINDICATION:  ___...  \n",
       "17  EXAMINATION:  CT HEAD W/O CONTRAST\\n\\nINDICATI...  \n",
       "18  EXAMINATION:  CHEST (PORTABLE AP)\\n\\nINDICATIO...  \n",
       "19  INDICATION:  ___ year old woman with cirrhosis...  \n",
       "20  EXAMINATION:  LIVER OR GALLBLADDER US (SINGLE ...  \n",
       "21  EXAMINATION:  PARACENTESIS/US-GUIDED\\n\\nINDICA...  \n",
       "22  INDICATION:  ___ year old woman with cirrhosis...  \n",
       "23  INDICATION:  ___ year old woman with cirrhosis...  "
      ]
     },
     "execution_count": 30,
     "metadata": {},
     "output_type": "execute_result"
    }
   ],
   "source": [
    "print(len(radiology_data))\n",
    "report_df = radiology_data[radiology_data[\"subject_id\"]==overlapping_subject_ids[subj]]\n",
    "report_df"
   ]
  },
  {
   "cell_type": "code",
   "execution_count": null,
   "metadata": {},
   "outputs": [
    {
     "name": "stdout",
     "output_type": "stream",
     "text": [
      "['10000032-RR-45', '10000032-RR-45', '10000032-RR-47']\n"
     ]
    }
   ],
   "source": [
    "report_note_ids = []\n",
    "for ecg in ecg_df.iloc:\n",
    "    ecg_date = datetime.strptime(ecg[\"charttime\"], '%Y-%m-%d %H:%M:%S')\n",
    "\n",
    "    report_note_id = None\n",
    "    best_diff = np.inf\n",
    "    for report in report_df.iloc:\n",
    "        report_date = datetime.strptime(report[\"charttime\"], '%Y-%m-%d %H:%M:%S')\n",
    "        \n",
    "        curr_diff = abs(ecg_date-report_date).total_seconds()\n",
    "        if curr_diff < best_diff:\n",
    "            best_diff = curr_diff\n",
    "            report_note_id = report[\"note_id\"]\n",
    "    \n",
    "    report_note_ids.append(report_note_id)\n",
    "\n",
    "print(report_note_ids)"
   ]
  },
  {
   "cell_type": "code",
   "execution_count": null,
   "metadata": {},
   "outputs": [],
   "source": [
    "print(radiology_data[radiology_data[\"note_id\"]==report_note_ids[2]][\"text\"].values[0])"
   ]
  },
  {
   "cell_type": "markdown",
   "metadata": {},
   "source": [
    "#### Create pairs of ECG and report data"
   ]
  },
  {
   "cell_type": "code",
   "execution_count": null,
   "metadata": {},
   "outputs": [
    {
     "name": "stdout",
     "output_type": "stream",
     "text": [
      "599889 599889\n"
     ]
    }
   ],
   "source": [
    "def process_subject(subject):\n",
    "    ecg_note_ids = []\n",
    "    report_note_ids = []\n",
    "    \n",
    "    ecg_df = ecg_detail[ecg_detail['subject_id'] == subject]\n",
    "    report_df = radiology_data[radiology_data[\"subject_id\"] == subject]\n",
    "\n",
    "    for ecg in ecg_df.iloc:\n",
    "        ecg_date = datetime.strptime(ecg[\"charttime\"], '%Y-%m-%d %H:%M:%S')\n",
    "\n",
    "        report_note_id = None\n",
    "        best_diff = np.inf\n",
    "        for report in report_df.iloc:\n",
    "            report_date = datetime.strptime(report[\"charttime\"], '%Y-%m-%d %H:%M:%S')\n",
    "            \n",
    "            curr_diff = abs(ecg_date - report_date).total_seconds()\n",
    "            if curr_diff < best_diff:\n",
    "                best_diff = curr_diff\n",
    "                report_note_id = report[\"note_id\"]\n",
    "\n",
    "        ecg_note_ids.append(ecg[\"note_id\"])\n",
    "        report_note_ids.append(report_note_id)\n",
    "\n",
    "    return ecg_note_ids, report_note_ids\n",
    "\n",
    "if __name__ == '__main__':\n",
    "    # Define the number of processes\n",
    "    num_processes = 32\n",
    "\n",
    "    # Create a multiprocessing Pool\n",
    "    with multiprocessing.Pool(processes=num_processes) as pool:\n",
    "        # Map the function to each process and concatenate the results\n",
    "        results = pool.map(process_subject, overlapping_subject_ids)\n",
    "\n",
    "    # Concatenate the results from each process\n",
    "    ecg_note_ids = [item for sublist in results for item in sublist[0]]\n",
    "    report_note_ids = [item for sublist in results for item in sublist[1]]\n",
    "\n",
    "    print(len(ecg_note_ids), len(report_note_ids))\n"
   ]
  },
  {
   "cell_type": "markdown",
   "metadata": {},
   "source": [
    "#### Create report dataset"
   ]
  },
  {
   "cell_type": "code",
   "execution_count": null,
   "metadata": {},
   "outputs": [],
   "source": [
    "report_note_ids = torch.load(\"/home/oturgut/data/processed/mimic-ecg-text/radiology_reports_note_id.pt\")"
   ]
  },
  {
   "cell_type": "code",
   "execution_count": null,
   "metadata": {},
   "outputs": [],
   "source": [
    "def extract_sections(report_note_id):\n",
    "    report_text = radiology_data[radiology_data[\"note_id\"]==report_note_id]['text'].values[0]\n",
    "\n",
    "    # Define patterns for FINDINGS and IMPRESSION sections\n",
    "    findings_pattern = re.compile(r'FINDINGS:(.*?)(IMPRESSION:|$)', re.DOTALL)\n",
    "    impression_pattern = re.compile(r'IMPRESSION:(.*?)(?=$|\\Z)', re.DOTALL)\n",
    "\n",
    "    # Find matches for FINDINGS and IMPRESSION sections\n",
    "    findings_match = findings_pattern.search(report_text)\n",
    "    impression_match = impression_pattern.search(report_text)\n",
    "\n",
    "    # Extract text from the matched groups, handling missing sections\n",
    "    findings_text = findings_match.group(1).strip().replace('\\n', ' ') if findings_match else None\n",
    "    impression_text = impression_match.group(1).strip().replace('\\n', ' ') if impression_match else None\n",
    "\n",
    "    # Remove underscores\n",
    "    if findings_text:\n",
    "        findings_text = ' '.join(findings_text.replace('_', '').split())\n",
    "    if impression_text:\n",
    "        impression_text = ' '.join(impression_text.replace('_', '').split())\n",
    "\n",
    "    # Split the sections into sentences, considering numerical listings\n",
    "    findings_sentences = re.split(r'(?<!\\d\\.)(?<=\\.|\\?)\\s', findings_text) if findings_text else []\n",
    "    impression_sentences = re.split(r'(?<!\\d\\.)(?<=\\.|\\?)\\s', impression_text) if impression_text else []\n",
    "\n",
    "    return findings_sentences+impression_sentences\n",
    "\n",
    "if __name__ == '__main__':\n",
    "    # Define the number of processes\n",
    "    num_processes = 24\n",
    "\n",
    "    dataset_reports = []\n",
    "    # Create a multiprocessing Pool\n",
    "    with multiprocessing.Pool(processes=num_processes) as pool:\n",
    "        # Map the function to each process and concatenate the results\n",
    "        dataset_reports.extend(pool.map(extract_sections, report_note_ids))\n",
    "\n",
    "    print(len(dataset_reports))\n",
    "    \n",
    "    # torch.save(report_note_ids[:20480], '/home/oturgut/data/processed/mimic-ecg-text/radiology_reports_note_id_20k.pt')\n",
    "    # torch.save(dataset_reports[:20480], '/home/oturgut/data/processed/mimic-ecg-text/radiology_reports_train_20k.pt')\n",
    "\n",
    "    # torch.save(report_note_ids, '/home/oturgut/data/processed/mimic-ecg-text/radiology_reports_note_id_600k.pt')\n",
    "    # torch.save(dataset_reports[:300000], '/home/oturgut/data/processed/mimic-ecg-text/radiology_reports_train_590k_p1.pt')\n",
    "\n",
    "    # torch.save(dataset_reports[:-10240], '/home/oturgut/data/processed/mimic-ecg-text/radiology_reports_train_590k.pt')\n",
    "\n",
    "    # torch.save(dataset_reports[-10240:], '/home/oturgut/data/processed/mimic-ecg-text/radiology_reports_val_10k.pt')"
   ]
  },
  {
   "cell_type": "code",
   "execution_count": null,
   "metadata": {},
   "outputs": [],
   "source": [
    "# torch.save(dataset_reports[-10240:], '/home/oturgut/data/processed/mimic-ecg-text/radiology_reports_impressions_val_10k.pt')"
   ]
  },
  {
   "cell_type": "code",
   "execution_count": null,
   "metadata": {},
   "outputs": [],
   "source": [
    "# torch.save(report_note_ids[:2048], '/home/oturgut/data/processed/mimic-ecg-text/report_test_note_ids.pt')\n",
    "# torch.save(reports, '/home/oturgut/data/processed/mimic-ecg-text/report_test.pt')"
   ]
  },
  {
   "cell_type": "markdown",
   "metadata": {},
   "source": [
    "#### Create ECG dataset"
   ]
  },
  {
   "cell_type": "code",
   "execution_count": null,
   "metadata": {},
   "outputs": [
    {
     "name": "stdout",
     "output_type": "stream",
     "text": [
      "599889\n"
     ]
    }
   ],
   "source": [
    "ecg_note_ids = torch.load('/home/oturgut/data/processed/mimic-ecg-text/ecgs_note_id.pt')\n",
    "print(len(ecg_note_ids))"
   ]
  },
  {
   "cell_type": "code",
   "execution_count": null,
   "metadata": {},
   "outputs": [
    {
     "name": "stdout",
     "output_type": "stream",
     "text": [
      "torch.Size([199889, 12, 5000])\n"
     ]
    }
   ],
   "source": [
    "def process_ecgs(ecg_note_id):\n",
    "    file_name = ecg_detail[ecg_detail[\"note_id\"]==ecg_note_id][\"waveform_path\"].values[0]\n",
    "    rec_path = ecg_path+file_name\n",
    "\n",
    "    data = wfdb.rdsamp(rec_path, return_res=32)[0]\n",
    "    data = np.transpose(data)\n",
    "\n",
    "    # remove nan\n",
    "    data = np.nan_to_num(data)\n",
    "    \n",
    "    # clamp\n",
    "    data_std = data.std()\n",
    "    data = np.clip(data, a_min=-4*data_std, a_max=4*data_std)\n",
    "\n",
    "    # remove baseline wander\n",
    "    baselines = np.zeros_like(data)\n",
    "    for lead in range(data.shape[0]):\n",
    "        baselines[lead] = baseline_als(data[lead], lam=1e7, p=0.3, niter=5)\n",
    "    data = data - baselines\n",
    "\n",
    "    # normalize data\n",
    "    transform = Normalization(mode=\"group_wise\", groups=[3, 6, 12])\n",
    "    data = transform(data)\n",
    "\n",
    "    return data\n",
    "\n",
    "\n",
    "if __name__ == '__main__':\n",
    "    # Define the number of processes\n",
    "    num_processes = 32\n",
    "\n",
    "    # Create a multiprocessing Pool\n",
    "    dataset_ecgs = []\n",
    "    with multiprocessing.Pool(processes=num_processes) as pool:\n",
    "        dataset_ecgs.extend(pool.map(process_ecgs, ecg_note_ids[400000:]))\n",
    "    \n",
    "    dataset_ecgs = torch.tensor(np.array(dataset_ecgs), dtype=torch.float32)\n",
    "\n",
    "    print(dataset_ecgs.shape)\n",
    "\n",
    "    # torch.save(ecg_note_ids, '/home/oturgut/data/processed/mimic-ecg-text/ecgs_note_id_600k.pt')\n",
    "    # torch.save(dataset_ecgs, '/home/oturgut/data/processed/mimic-ecg-text/ecgs_train_600k.pt')"
   ]
  },
  {
   "cell_type": "code",
   "execution_count": null,
   "metadata": {},
   "outputs": [],
   "source": [
    "# torch.save(ecg_note_ids[:2048], '/home/oturgut/data/processed/mimic-ecg-text/ecg_test_note_ids.pt')\n",
    "# torch.save(torch.tensor(ecgs), '/home/oturgut/data/processed/mimic-ecg-text/ecg_test.pt')"
   ]
  },
  {
   "cell_type": "code",
   "execution_count": null,
   "metadata": {},
   "outputs": [
    {
     "data": {
      "image/png": "[encoded data removed]",
      "text/plain": [
       "<Figure size 2000x200 with 1 Axes>"
      ]
     },
     "metadata": {},
     "output_type": "display_data"
    }
   ],
   "source": [
    "subject = 1755\n",
    "channel = 5\n",
    "\n",
    "plt.figure(figsize=(20, 2))\n",
    "plt.plot(dataset_ecgs[subject, channel], color='tab:blue', label='processed')\n",
    "plt.plot(np.zeros(5000), color='black', label='dc')\n",
    "plt.legend()\n",
    "plt.show()"
   ]
  },
  {
   "cell_type": "markdown",
   "metadata": {},
   "source": [
    "## TEXT MODEL"
   ]
  },
  {
   "cell_type": "code",
   "execution_count": null,
   "metadata": {},
   "outputs": [
    {
     "name": "stderr",
     "output_type": "stream",
     "text": [
      "/home/oturgut/miniconda3/envs/mmcl3/lib/python3.11/site-packages/tqdm/auto.py:21: TqdmWarning: IProgress not found. Please update jupyter and ipywidgets. See https://ipywidgets.readthedocs.io/en/stable/user_install.html\n",
      "  from .autonotebook import tqdm as notebook_tqdm\n"
     ]
    }
   ],
   "source": [
    "from transformers import AutoTokenizer, AutoModel\n",
    "import torch\n",
    "import torch.nn.functional as F\n",
    "\n",
    "# Mean Pooling - Take attention mask into account for correct averaging\n",
    "def mean_pooling(model_output, attention_mask):\n",
    "    token_embeddings = model_output[0] # First element of model_output contains all token embeddings\n",
    "    input_mask_expanded = attention_mask.unsqueeze(-1) #.expand(token_embeddings.size()).float()\n",
    "    return torch.sum(token_embeddings * input_mask_expanded, 1) / torch.clamp(input_mask_expanded.sum(1), min=1e-9)\n",
    "\n",
    "# Sentences we want sentence embeddings for\n",
    "sentences = [\"Here is in image: Cat scratch injury\", \"Cat scratch disease hi\", \"Bartonellosis\"]\n",
    "\n",
    "# Load model from HuggingFace Hub\n",
    "tokenizer = AutoTokenizer.from_pretrained('emilyalsentzer/Bio_ClinicalBERT')\n",
    "model = AutoModel.from_pretrained('emilyalsentzer/Bio_ClinicalBERT', output_hidden_states=False)\n",
    "\n",
    "max_position_embeddings = 384\n",
    "\n",
    "# # Tokenize sentences\n",
    "# encoded_input = tokenizer(sentences, \n",
    "#                           padding='max_length', \n",
    "#                           max_length=max_position_embeddings, \n",
    "#                           truncation=True, \n",
    "#                           return_tensors='pt')\n",
    "\n",
    "# # Compute token embeddings\n",
    "# with torch.no_grad():\n",
    "#     model_output = model(**encoded_input)\n",
    "\n",
    "# # Perform pooling\n",
    "# sentence_embeddings = mean_pooling(model_output, encoded_input['attention_mask'])\n",
    "\n",
    "# # Normalize embeddings\n",
    "# sentence_embeddings = F.normalize(sentence_embeddings, p=2, dim=1)"
   ]
  },
  {
   "cell_type": "markdown",
   "metadata": {},
   "source": [
    "Remove datapoints with empty reports"
   ]
  },
  {
   "cell_type": "code",
   "execution_count": null,
   "metadata": {},
   "outputs": [],
   "source": [
    "text_data = torch.load(\"/home/oturgut/data/processed/mimic-ecg-text/radiology_reports_train_20k.pt\") \n",
    "ecg_data = torch.load(\"/home/oturgut/data/processed/mimic-ecg-text/ecgs_train_20k.pt\")"
   ]
  },
  {
   "cell_type": "code",
   "execution_count": null,
   "metadata": {},
   "outputs": [
    {
     "data": {
      "text/plain": [
       "20480"
      ]
     },
     "execution_count": 40,
     "metadata": {},
     "output_type": "execute_result"
    }
   ],
   "source": [
    "len(text_data)"
   ]
  },
  {
   "cell_type": "code",
   "execution_count": null,
   "metadata": {},
   "outputs": [
    {
     "name": "stdout",
     "output_type": "stream",
     "text": [
      "171970\n"
     ]
    }
   ],
   "source": [
    "sentences = []\n",
    "for text in text_data:\n",
    "    sentences.extend(text)\n",
    "\n",
    "print(len(sentences))"
   ]
  },
  {
   "cell_type": "code",
   "execution_count": null,
   "metadata": {},
   "outputs": [
    {
     "data": {
      "text/plain": [
       "0.01877903938293457"
      ]
     },
     "execution_count": 34,
     "metadata": {},
     "output_type": "execute_result"
    }
   ],
   "source": [
    "2520480*8/(1024*1024*1024)"
   ]
  },
  {
   "cell_type": "code",
   "execution_count": null,
   "metadata": {},
   "outputs": [],
   "source": [
    "empty_data = []\n",
    "indices = []\n",
    "new_text_data = []\n",
    "for idx, text in enumerate(text_data):\n",
    "    if not text:\n",
    "        empty_data.append(idx)\n",
    "        indices.append(False)\n",
    "    else:\n",
    "        new_text_data.append(text)\n",
    "        indices.append(True)"
   ]
  },
  {
   "cell_type": "code",
   "execution_count": null,
   "metadata": {},
   "outputs": [
    {
     "data": {
      "text/plain": [
       "1138"
      ]
     },
     "execution_count": 43,
     "metadata": {},
     "output_type": "execute_result"
    }
   ],
   "source": [
    "len(empty_data)"
   ]
  },
  {
   "cell_type": "code",
   "execution_count": null,
   "metadata": {},
   "outputs": [],
   "source": [
    "new_ecg_data = ecg_data[indices]"
   ]
  },
  {
   "cell_type": "code",
   "execution_count": null,
   "metadata": {},
   "outputs": [],
   "source": [
    "# torch.save(new_text_data, \"/home/oturgut/data/processed/mimic-ecg-text/radiology_reports_train_20k_clean.pt\")\n",
    "# torch.save(new_ecg_data, \"/home/oturgut/data/processed/mimic-ecg-text/ecgs_train_20k_clean.pt\")"
   ]
  },
  {
   "cell_type": "markdown",
   "metadata": {},
   "source": [
    "Visualize data"
   ]
  },
  {
   "cell_type": "code",
   "execution_count": null,
   "metadata": {},
   "outputs": [],
   "source": [
    "text_list = []\n",
    "for sentences in text_data:\n",
    "    for idx, sentence in enumerate(sentences):\n",
    "        text_list.append(sentence)"
   ]
  },
  {
   "cell_type": "code",
   "execution_count": null,
   "metadata": {},
   "outputs": [
    {
     "data": {
      "text/plain": [
       "1778604"
      ]
     },
     "execution_count": 15,
     "metadata": {},
     "output_type": "execute_result"
    }
   ],
   "source": [
    "len(text_list)"
   ]
  },
  {
   "cell_type": "code",
   "execution_count": null,
   "metadata": {},
   "outputs": [],
   "source": [
    "text_list = []\n",
    "for sentences in text_data:\n",
    "    text = \"\"\n",
    "    for idx, sentence in enumerate(sentences):\n",
    "        text += sentence\n",
    "        if idx < len(sentences)-1:\n",
    "            text += \" \"\n",
    "\n",
    "    text_list.append(text)"
   ]
  },
  {
   "cell_type": "code",
   "execution_count": null,
   "metadata": {},
   "outputs": [
    {
     "data": {
      "text/plain": [
       "['AP upright and lateral views of the chest are obtained. There is mild elevation of the right hemidiaphragm with blunted right CP angle which could reflect a small effusion. Evaluation is overall limited given the low lung volumes, though there is no focal consolidation of overt CHF. Bony structures appear grossly intact. Degenerative spurring in the mid thoracic spine noted. Possible small right pleural effusion. No overt abnormalities including no definite pneumonia.',\n",
       " 'AP upright and lateral views of the chest are obtained. There is mild elevation of the right hemidiaphragm with blunted right CP angle which could reflect a small effusion. Evaluation is overall limited given the low lung volumes, though there is no focal consolidation of overt CHF. Bony structures appear grossly intact. Degenerative spurring in the mid thoracic spine noted. Possible small right pleural effusion. No overt abnormalities including no definite pneumonia.',\n",
       " 'AP upright and lateral views of the chest are obtained. There is mild elevation of the right hemidiaphragm with blunted right CP angle which could reflect a small effusion. Evaluation is overall limited given the low lung volumes, though there is no focal consolidation of overt CHF. Bony structures appear grossly intact. Degenerative spurring in the mid thoracic spine noted. Possible small right pleural effusion. No overt abnormalities including no definite pneumonia.',\n",
       " 'AP chest compared to : Pulmonary and mediastinal vascular engorgement reflect volume overload, presumably due to fluid administration. Left central venous catheter ends low in the SVC. Heart size mildly enlarged, unchanged. No pulmonary edema. Pleural effusions are small if any. No pneumothorax.',\n",
       " '',\n",
       " 'No evidence of malignancy. BI-RADS 1 - negative.',\n",
       " 'No evidence of malignancy. BI-RADS 1 -- negative.',\n",
       " 'Evaluation is limited by overlying soft tissues. There is no acute fracture or dislocation. There are mild degenerative changes of bilateral hips. There are no focal lesions or osseous erosions. Gas is seen in multiple loops of small bowel and large bowel, in a nonspecific pattern. No acute fracture or dislocation is seen, however evaluation is limited by overlying soft tissues.',\n",
       " 'AP upright and lateral views of the chest were provided. Mild cardiomegaly is again noted with partially layering bilateral pleural effusions and lower lobe compressive atelectasis. Additionally there is hilar engorgement compatible with edema. Given the lower lung opacity, pneumonia difficult to exclude. Calcification of the aortic arch is noted. There is no pneumothorax. Imaged osseous structures appear intact. There is a calcific density abutting the left humeral head concerning for tendinopathy. Pulmonary edema with small bilateral effusions and lower lobe compressive atelectasis. Pneumonia in the lower lungs difficult to exclude in the right clinical setting. Followup imaging post diuresis may be helpful to further assess.',\n",
       " 'AP upright and lateral views of the chest were provided. Mild cardiomegaly is again noted with partially layering bilateral pleural effusions and lower lobe compressive atelectasis. Additionally there is hilar engorgement compatible with edema. Given the lower lung opacity, pneumonia difficult to exclude. Calcification of the aortic arch is noted. There is no pneumothorax. Imaged osseous structures appear intact. There is a calcific density abutting the left humeral head concerning for tendinopathy. Pulmonary edema with small bilateral effusions and lower lobe compressive atelectasis. Pneumonia in the lower lungs difficult to exclude in the right clinical setting. Followup imaging post diuresis may be helpful to further assess.']"
      ]
     },
     "execution_count": 13,
     "metadata": {},
     "output_type": "execute_result"
    }
   ],
   "source": [
    "text_list[:10]"
   ]
  },
  {
   "cell_type": "code",
   "execution_count": null,
   "metadata": {},
   "outputs": [],
   "source": [
    "max_position_embeddings = 512\n",
    "tokenized_sentences = tokenizer(text_list, \n",
    "                                # padding='max_length', \n",
    "                                # truncation=True, \n",
    "                                # max_length=max_position_embeddings, \n",
    "                                # return_tensors='pt'\n",
    "                                )"
   ]
  },
  {
   "cell_type": "code",
   "execution_count": null,
   "metadata": {},
   "outputs": [
    {
     "data": {
      "text/plain": [
       "[Encoding(num_tokens=107, attributes=[ids, type_ids, tokens, offsets, attention_mask, special_tokens_mask, overflowing]),\n",
       " Encoding(num_tokens=107, attributes=[ids, type_ids, tokens, offsets, attention_mask, special_tokens_mask, overflowing]),\n",
       " Encoding(num_tokens=107, attributes=[ids, type_ids, tokens, offsets, attention_mask, special_tokens_mask, overflowing]),\n",
       " Encoding(num_tokens=73, attributes=[ids, type_ids, tokens, offsets, attention_mask, special_tokens_mask, overflowing]),\n",
       " Encoding(num_tokens=2, attributes=[ids, type_ids, tokens, offsets, attention_mask, special_tokens_mask, overflowing]),\n",
       " Encoding(num_tokens=18, attributes=[ids, type_ids, tokens, offsets, attention_mask, special_tokens_mask, overflowing]),\n",
       " Encoding(num_tokens=19, attributes=[ids, type_ids, tokens, offsets, attention_mask, special_tokens_mask, overflowing]),\n",
       " Encoding(num_tokens=87, attributes=[ids, type_ids, tokens, offsets, attention_mask, special_tokens_mask, overflowing]),\n",
       " Encoding(num_tokens=167, attributes=[ids, type_ids, tokens, offsets, attention_mask, special_tokens_mask, overflowing]),\n",
       " Encoding(num_tokens=167, attributes=[ids, type_ids, tokens, offsets, attention_mask, special_tokens_mask, overflowing])]"
      ]
     },
     "execution_count": 16,
     "metadata": {},
     "output_type": "execute_result"
    }
   ],
   "source": [
    "tokenized_sentences[:10]"
   ]
  },
  {
   "cell_type": "code",
   "execution_count": null,
   "metadata": {},
   "outputs": [],
   "source": [
    "text_len = np.array([enc.__len__() for enc in tokenized_sentences[:]])"
   ]
  },
  {
   "cell_type": "code",
   "execution_count": null,
   "metadata": {},
   "outputs": [
    {
     "data": {
      "text/plain": [
       "568379"
      ]
     },
     "execution_count": 30,
     "metadata": {},
     "output_type": "execute_result"
    }
   ],
   "source": [
    "(text_len < 128).sum()"
   ]
  },
  {
   "cell_type": "code",
   "execution_count": null,
   "metadata": {},
   "outputs": [
    {
     "data": {
      "text/plain": [
       "<function matplotlib.pyplot.show(close=None, block=None)>"
      ]
     },
     "execution_count": 24,
     "metadata": {},
     "output_type": "execute_result"
    },
    {
     "data": {
      "image/png": "[encoded data removed]",
      "text/plain": [
       "<Figure size 2000x500 with 1 Axes>"
      ]
     },
     "metadata": {},
     "output_type": "display_data"
    }
   ],
   "source": [
    "plt.figure(figsize=(20, 5))\n",
    "counts, edges, bars = plt.hist(text_len, bins=50)\n",
    "plt.bar_label(bars)\n",
    "plt.show"
   ]
  },
  {
   "cell_type": "markdown",
   "metadata": {},
   "source": [
    "Play around"
   ]
  },
  {
   "cell_type": "code",
   "execution_count": null,
   "metadata": {},
   "outputs": [],
   "source": [
    "text_orig = []\n",
    "text_length = []\n",
    "for text in text_data[:10]:\n",
    "    text_orig.extend(text)\n",
    "    text_length.append(len(text))"
   ]
  },
  {
   "cell_type": "code",
   "execution_count": null,
   "metadata": {},
   "outputs": [
    {
     "data": {
      "text/plain": [
       "[7, 7, 7, 6, 0, 2, 2, 6, 11, 11]"
      ]
     },
     "execution_count": 80,
     "metadata": {},
     "output_type": "execute_result"
    }
   ],
   "source": [
    "text_length"
   ]
  },
  {
   "cell_type": "code",
   "execution_count": null,
   "metadata": {},
   "outputs": [
    {
     "data": {
      "text/plain": [
       "['AP upright and lateral views of the chest are obtained.',\n",
       " 'There is mild elevation of the right hemidiaphragm with blunted right CP angle which could reflect a small effusion.',\n",
       " 'Evaluation is overall limited given the low lung volumes, though there is no focal consolidation of overt CHF.',\n",
       " 'Bony structures appear grossly intact.',\n",
       " 'Degenerative spurring in the mid thoracic spine noted.',\n",
       " 'Possible small right pleural effusion.',\n",
       " 'No overt abnormalities including no definite pneumonia.',\n",
       " 'AP upright and lateral views of the chest are obtained.',\n",
       " 'There is mild elevation of the right hemidiaphragm with blunted right CP angle which could reflect a small effusion.',\n",
       " 'Evaluation is overall limited given the low lung volumes, though there is no focal consolidation of overt CHF.',\n",
       " 'Bony structures appear grossly intact.',\n",
       " 'Degenerative spurring in the mid thoracic spine noted.',\n",
       " 'Possible small right pleural effusion.',\n",
       " 'No overt abnormalities including no definite pneumonia.',\n",
       " 'AP upright and lateral views of the chest are obtained.',\n",
       " 'There is mild elevation of the right hemidiaphragm with blunted right CP angle which could reflect a small effusion.',\n",
       " 'Evaluation is overall limited given the low lung volumes, though there is no focal consolidation of overt CHF.',\n",
       " 'Bony structures appear grossly intact.',\n",
       " 'Degenerative spurring in the mid thoracic spine noted.',\n",
       " 'Possible small right pleural effusion.',\n",
       " 'No overt abnormalities including no definite pneumonia.',\n",
       " 'AP chest compared to : Pulmonary and mediastinal vascular engorgement reflect volume overload, presumably due to fluid administration.',\n",
       " 'Left central venous catheter ends low in the SVC.',\n",
       " 'Heart size mildly enlarged, unchanged.',\n",
       " 'No pulmonary edema.',\n",
       " 'Pleural effusions are small if any.',\n",
       " 'No pneumothorax.',\n",
       " 'No evidence of malignancy.',\n",
       " 'BI-RADS 1 - negative.',\n",
       " 'No evidence of malignancy.',\n",
       " 'BI-RADS 1 -- negative.',\n",
       " 'Evaluation is limited by overlying soft tissues.',\n",
       " 'There is no acute fracture or dislocation.',\n",
       " 'There are mild degenerative changes of bilateral hips.',\n",
       " 'There are no focal lesions or osseous erosions.',\n",
       " 'Gas is seen in multiple loops of small bowel and large bowel, in a nonspecific pattern.',\n",
       " 'No acute fracture or dislocation is seen, however evaluation is limited by overlying soft tissues.',\n",
       " 'AP upright and lateral views of the chest were provided.',\n",
       " 'Mild cardiomegaly is again noted with partially layering bilateral pleural effusions and lower lobe compressive atelectasis.',\n",
       " 'Additionally there is hilar engorgement compatible with edema.',\n",
       " 'Given the lower lung opacity, pneumonia difficult to exclude.',\n",
       " 'Calcification of the aortic arch is noted.',\n",
       " 'There is no pneumothorax.',\n",
       " 'Imaged osseous structures appear intact.',\n",
       " 'There is a calcific density abutting the left humeral head concerning for tendinopathy.',\n",
       " 'Pulmonary edema with small bilateral effusions and lower lobe compressive atelectasis.',\n",
       " 'Pneumonia in the lower lungs difficult to exclude in the right clinical setting.',\n",
       " 'Followup imaging post diuresis may be helpful to further assess.',\n",
       " 'AP upright and lateral views of the chest were provided.',\n",
       " 'Mild cardiomegaly is again noted with partially layering bilateral pleural effusions and lower lobe compressive atelectasis.',\n",
       " 'Additionally there is hilar engorgement compatible with edema.',\n",
       " 'Given the lower lung opacity, pneumonia difficult to exclude.',\n",
       " 'Calcification of the aortic arch is noted.',\n",
       " 'There is no pneumothorax.',\n",
       " 'Imaged osseous structures appear intact.',\n",
       " 'There is a calcific density abutting the left humeral head concerning for tendinopathy.',\n",
       " 'Pulmonary edema with small bilateral effusions and lower lobe compressive atelectasis.',\n",
       " 'Pneumonia in the lower lungs difficult to exclude in the right clinical setting.',\n",
       " 'Followup imaging post diuresis may be helpful to further assess.']"
      ]
     },
     "execution_count": 81,
     "metadata": {},
     "output_type": "execute_result"
    }
   ],
   "source": [
    "text_orig"
   ]
  },
  {
   "cell_type": "code",
   "execution_count": null,
   "metadata": {},
   "outputs": [],
   "source": [
    "# Tokenize each sentence separately\n",
    "encoded_input = tokenizer(text_orig, \n",
    "                          padding='longest', \n",
    "                        #   max_length=max_position_embeddings, \n",
    "                          truncation=True, \n",
    "                          return_tensors='pt')"
   ]
  },
  {
   "cell_type": "code",
   "execution_count": null,
   "metadata": {},
   "outputs": [
    {
     "data": {
      "text/plain": [
       "{'input_ids': tensor([[  101,   170,  1643,  ...,     0,     0,     0],\n",
       "        [  101,  1175,  1110,  ..., 17268,   119,   102],\n",
       "        [  101, 10540,  1110,  ...,     0,     0,     0],\n",
       "        ...,\n",
       "        [  101, 26600,  5048,  ...,     0,     0,     0],\n",
       "        [  101, 20673,  1107,  ...,     0,     0,     0],\n",
       "        [  101,  2812,  4455,  ...,     0,     0,     0]]), 'token_type_ids': tensor([[0, 0, 0,  ..., 0, 0, 0],\n",
       "        [0, 0, 0,  ..., 0, 0, 0],\n",
       "        [0, 0, 0,  ..., 0, 0, 0],\n",
       "        ...,\n",
       "        [0, 0, 0,  ..., 0, 0, 0],\n",
       "        [0, 0, 0,  ..., 0, 0, 0],\n",
       "        [0, 0, 0,  ..., 0, 0, 0]]), 'attention_mask': tensor([[1, 1, 1,  ..., 0, 0, 0],\n",
       "        [1, 1, 1,  ..., 1, 1, 1],\n",
       "        [1, 1, 1,  ..., 0, 0, 0],\n",
       "        ...,\n",
       "        [1, 1, 1,  ..., 0, 0, 0],\n",
       "        [1, 1, 1,  ..., 0, 0, 0],\n",
       "        [1, 1, 1,  ..., 0, 0, 0]])}"
      ]
     },
     "execution_count": 89,
     "metadata": {},
     "output_type": "execute_result"
    }
   ],
   "source": [
    "encoded_input"
   ]
  },
  {
   "cell_type": "code",
   "execution_count": null,
   "metadata": {},
   "outputs": [
    {
     "name": "stdout",
     "output_type": "stream",
     "text": [
      "tensor([  101,   170,  1643, 10170,  1105, 11937,  4696,  1104,  1103,  2229,\n",
      "         1132,  3836,   119,   102,     0,     0,     0,     0,     0,     0,\n",
      "            0,     0,     0,     0,     0,     0,     0,     0,     0,     0,\n",
      "            0])\n",
      "tensor([1, 1, 1, 1, 1, 1, 1, 1, 1, 1, 1, 1, 1, 1, 0, 0, 0, 0, 0, 0, 0, 0, 0, 0,\n",
      "        0, 0, 0, 0, 0, 0, 0])\n"
     ]
    }
   ],
   "source": [
    "print(encoded_input[\"input_ids\"][0])\n",
    "print(encoded_input[\"attention_mask\"][0])"
   ]
  },
  {
   "cell_type": "code",
   "execution_count": null,
   "metadata": {},
   "outputs": [],
   "source": [
    "with torch.no_grad():\n",
    "    model_output = model(**encoded_input)"
   ]
  },
  {
   "cell_type": "code",
   "execution_count": null,
   "metadata": {},
   "outputs": [
    {
     "data": {
      "text/plain": [
       "torch.Size([59, 31, 768])"
      ]
     },
     "execution_count": 95,
     "metadata": {},
     "output_type": "execute_result"
    }
   ],
   "source": [
    "model_output[\"last_hidden_state\"].shape"
   ]
  },
  {
   "cell_type": "code",
   "execution_count": null,
   "metadata": {},
   "outputs": [
    {
     "data": {
      "text/plain": [
       "torch.Size([31, 1])"
      ]
     },
     "execution_count": 104,
     "metadata": {},
     "output_type": "execute_result"
    }
   ],
   "source": [
    "encoded_input[\"attention_mask\"][0].unsqueeze(dim=-1).shape"
   ]
  },
  {
   "cell_type": "code",
   "execution_count": null,
   "metadata": {},
   "outputs": [
    {
     "data": {
      "text/plain": [
       "tensor([[ 0.2666, -0.0166,  0.4136,  ..., -0.1365,  0.2224,  0.0642],\n",
       "        [ 0.0500, -0.0197,  0.4866,  ..., -0.0143,  0.4646,  0.1737],\n",
       "        [-0.1082, -0.0245,  0.3287,  ...,  0.0341,  0.2271, -0.0101],\n",
       "        ...,\n",
       "        [ 0.1591, -0.4269,  0.2486,  ..., -0.1494, -0.0074,  0.3174],\n",
       "        [ 0.1581, -0.1189,  0.1682,  ..., -0.0842,  0.0619,  0.3712],\n",
       "        [ 0.0438, -0.1829,  0.0425,  ..., -0.1881,  0.1239,  0.2716]])"
      ]
     },
     "execution_count": 108,
     "metadata": {},
     "output_type": "execute_result"
    }
   ],
   "source": [
    "model_output[\"last_hidden_state\"][0]"
   ]
  },
  {
   "cell_type": "code",
   "execution_count": null,
   "metadata": {},
   "outputs": [],
   "source": [
    "masked_model_output = model_output[\"last_hidden_state\"] * encoded_input[\"attention_mask\"].unsqueeze(dim=-1)"
   ]
  },
  {
   "cell_type": "code",
   "execution_count": null,
   "metadata": {},
   "outputs": [
    {
     "data": {
      "text/plain": [
       "tensor([[ 0.2666, -0.0166,  0.4136,  ..., -0.1365,  0.2224,  0.0642],\n",
       "        [ 0.0500, -0.0197,  0.4866,  ..., -0.0143,  0.4646,  0.1737],\n",
       "        [-0.1082, -0.0245,  0.3287,  ...,  0.0341,  0.2271, -0.0101],\n",
       "        ...,\n",
       "        [ 0.0000, -0.0000,  0.0000,  ..., -0.0000, -0.0000,  0.0000],\n",
       "        [ 0.0000, -0.0000,  0.0000,  ..., -0.0000,  0.0000,  0.0000],\n",
       "        [ 0.0000, -0.0000,  0.0000,  ..., -0.0000,  0.0000,  0.0000]])"
      ]
     },
     "execution_count": 112,
     "metadata": {},
     "output_type": "execute_result"
    }
   ],
   "source": [
    "masked_model_output[0]"
   ]
  },
  {
   "cell_type": "code",
   "execution_count": null,
   "metadata": {},
   "outputs": [],
   "source": [
    "def max_pooling(model_output, attention_mask, text_length):\n",
    "      token_embeddings = model_output[\"last_hidden_state\"] # Sequence of embeddings at the output of the last model layer\n",
    "      input_mask = attention_mask.unsqueeze(-1)\n",
    "\n",
    "      masked_token_embeddings = token_embeddings * input_mask\n",
    "\n",
    "      pooled_token_embeddings = torch.max(masked_token_embeddings, dim=1)[0]\n",
    "\n",
    "      return pooled_token_embeddings"
   ]
  },
  {
   "cell_type": "code",
   "execution_count": null,
   "metadata": {},
   "outputs": [
    {
     "data": {
      "text/plain": [
       "torch.Size([59, 768])"
      ]
     },
     "execution_count": 131,
     "metadata": {},
     "output_type": "execute_result"
    }
   ],
   "source": [
    "max_pooling(model_output, encoded_input[\"attention_mask\"], None).shape"
   ]
  },
  {
   "cell_type": "code",
   "execution_count": null,
   "metadata": {},
   "outputs": [],
   "source": [
    "def mean_pooling(model_output, attention_mask):\n",
    "    token_embeddings = model_output[0] # First element of model_output contains all token embeddings\n",
    "    input_mask_expanded = attention_mask.unsqueeze(-1) #.expand(token_embeddings.size()).float()\n",
    "    return torch.sum(token_embeddings * input_mask_expanded, 1) / torch.clamp(input_mask_expanded.sum(1), min=1e-9)"
   ]
  },
  {
   "cell_type": "code",
   "execution_count": null,
   "metadata": {},
   "outputs": [],
   "source": [
    "pooled_emb = mean_pooling(model_output, encoded_input[\"attention_mask\"])"
   ]
  },
  {
   "cell_type": "code",
   "execution_count": null,
   "metadata": {},
   "outputs": [
    {
     "data": {
      "text/plain": [
       "torch.Size([59, 768])"
      ]
     },
     "execution_count": 140,
     "metadata": {},
     "output_type": "execute_result"
    }
   ],
   "source": [
    "pooled_emb.shape"
   ]
  },
  {
   "cell_type": "code",
   "execution_count": null,
   "metadata": {},
   "outputs": [],
   "source": [
    "emb1 = pooled_emb[0:2].mean(dim=0, keepdim=True)\n",
    "emb2 = pooled_emb[2:4].mean(dim=0, keepdim=True)\n",
    "emb3 = pooled_emb[4:6].mean(dim=0, keepdim=True)"
   ]
  },
  {
   "cell_type": "code",
   "execution_count": null,
   "metadata": {},
   "outputs": [],
   "source": [
    "my_list = [emb1, emb2, emb3]"
   ]
  },
  {
   "cell_type": "code",
   "execution_count": null,
   "metadata": {},
   "outputs": [
    {
     "data": {
      "text/plain": [
       "torch.Size([1, 768])"
      ]
     },
     "execution_count": 160,
     "metadata": {},
     "output_type": "execute_result"
    }
   ],
   "source": [
    "emb1.shape"
   ]
  },
  {
   "cell_type": "code",
   "execution_count": null,
   "metadata": {},
   "outputs": [
    {
     "data": {
      "text/plain": [
       "torch.Size([3, 768])"
      ]
     },
     "execution_count": 161,
     "metadata": {},
     "output_type": "execute_result"
    }
   ],
   "source": [
    "torch.cat(my_list, dim=0).shape"
   ]
  },
  {
   "cell_type": "code",
   "execution_count": null,
   "metadata": {},
   "outputs": [
    {
     "data": {
      "text/plain": [
       "torch.Size([3, 768])"
      ]
     },
     "execution_count": 113,
     "metadata": {},
     "output_type": "execute_result"
    }
   ],
   "source": [
    "sentence_embeddings = mean_pooling(model_output, encoded_input['attention_mask'])\n",
    "sentence_embeddings.shape"
   ]
  },
  {
   "cell_type": "code",
   "execution_count": null,
   "metadata": {},
   "outputs": [
    {
     "data": {
      "text/plain": [
       "MPNetModel(\n",
       "  (embeddings): MPNetEmbeddings(\n",
       "    (word_embeddings): Embedding(30527, 768, padding_idx=1)\n",
       "    (position_embeddings): Embedding(514, 768, padding_idx=1)\n",
       "    (LayerNorm): LayerNorm((768,), eps=1e-05, elementwise_affine=True)\n",
       "    (dropout): Dropout(p=0.1, inplace=False)\n",
       "  )\n",
       "  (encoder): MPNetEncoder(\n",
       "    (layer): ModuleList(\n",
       "      (0): MPNetLayer(\n",
       "        (attention): MPNetAttention(\n",
       "          (attn): MPNetSelfAttention(\n",
       "            (q): Linear(in_features=768, out_features=768, bias=True)\n",
       "            (k): Linear(in_features=768, out_features=768, bias=True)\n",
       "            (v): Linear(in_features=768, out_features=768, bias=True)\n",
       "            (o): Linear(in_features=768, out_features=768, bias=True)\n",
       "            (dropout): Dropout(p=0.1, inplace=False)\n",
       "          )\n",
       "          (LayerNorm): LayerNorm((768,), eps=1e-05, elementwise_affine=True)\n",
       "          (dropout): Dropout(p=0.1, inplace=False)\n",
       "        )\n",
       "        (intermediate): MPNetIntermediate(\n",
       "          (dense): Linear(in_features=768, out_features=3072, bias=True)\n",
       "          (intermediate_act_fn): GELUActivation()\n",
       "        )\n",
       "        (output): MPNetOutput(\n",
       "          (dense): Linear(in_features=3072, out_features=768, bias=True)\n",
       "          (LayerNorm): LayerNorm((768,), eps=1e-05, elementwise_affine=True)\n",
       "          (dropout): Dropout(p=0.1, inplace=False)\n",
       "        )\n",
       "      )\n",
       "      (1): MPNetLayer(\n",
       "        (attention): MPNetAttention(\n",
       "          (attn): MPNetSelfAttention(\n",
       "            (q): Linear(in_features=768, out_features=768, bias=True)\n",
       "            (k): Linear(in_features=768, out_features=768, bias=True)\n",
       "            (v): Linear(in_features=768, out_features=768, bias=True)\n",
       "            (o): Linear(in_features=768, out_features=768, bias=True)\n",
       "            (dropout): Dropout(p=0.1, inplace=False)\n",
       "          )\n",
       "          (LayerNorm): LayerNorm((768,), eps=1e-05, elementwise_affine=True)\n",
       "          (dropout): Dropout(p=0.1, inplace=False)\n",
       "        )\n",
       "        (intermediate): MPNetIntermediate(\n",
       "          (dense): Linear(in_features=768, out_features=3072, bias=True)\n",
       "          (intermediate_act_fn): GELUActivation()\n",
       "        )\n",
       "        (output): MPNetOutput(\n",
       "          (dense): Linear(in_features=3072, out_features=768, bias=True)\n",
       "          (LayerNorm): LayerNorm((768,), eps=1e-05, elementwise_affine=True)\n",
       "          (dropout): Dropout(p=0.1, inplace=False)\n",
       "        )\n",
       "      )\n",
       "      (2): MPNetLayer(\n",
       "        (attention): MPNetAttention(\n",
       "          (attn): MPNetSelfAttention(\n",
       "            (q): Linear(in_features=768, out_features=768, bias=True)\n",
       "            (k): Linear(in_features=768, out_features=768, bias=True)\n",
       "            (v): Linear(in_features=768, out_features=768, bias=True)\n",
       "            (o): Linear(in_features=768, out_features=768, bias=True)\n",
       "            (dropout): Dropout(p=0.1, inplace=False)\n",
       "          )\n",
       "          (LayerNorm): LayerNorm((768,), eps=1e-05, elementwise_affine=True)\n",
       "          (dropout): Dropout(p=0.1, inplace=False)\n",
       "        )\n",
       "        (intermediate): MPNetIntermediate(\n",
       "          (dense): Linear(in_features=768, out_features=3072, bias=True)\n",
       "          (intermediate_act_fn): GELUActivation()\n",
       "        )\n",
       "        (output): MPNetOutput(\n",
       "          (dense): Linear(in_features=3072, out_features=768, bias=True)\n",
       "          (LayerNorm): LayerNorm((768,), eps=1e-05, elementwise_affine=True)\n",
       "          (dropout): Dropout(p=0.1, inplace=False)\n",
       "        )\n",
       "      )\n",
       "      (3): MPNetLayer(\n",
       "        (attention): MPNetAttention(\n",
       "          (attn): MPNetSelfAttention(\n",
       "            (q): Linear(in_features=768, out_features=768, bias=True)\n",
       "            (k): Linear(in_features=768, out_features=768, bias=True)\n",
       "            (v): Linear(in_features=768, out_features=768, bias=True)\n",
       "            (o): Linear(in_features=768, out_features=768, bias=True)\n",
       "            (dropout): Dropout(p=0.1, inplace=False)\n",
       "          )\n",
       "          (LayerNorm): LayerNorm((768,), eps=1e-05, elementwise_affine=True)\n",
       "          (dropout): Dropout(p=0.1, inplace=False)\n",
       "        )\n",
       "        (intermediate): MPNetIntermediate(\n",
       "          (dense): Linear(in_features=768, out_features=3072, bias=True)\n",
       "          (intermediate_act_fn): GELUActivation()\n",
       "        )\n",
       "        (output): MPNetOutput(\n",
       "          (dense): Linear(in_features=3072, out_features=768, bias=True)\n",
       "          (LayerNorm): LayerNorm((768,), eps=1e-05, elementwise_affine=True)\n",
       "          (dropout): Dropout(p=0.1, inplace=False)\n",
       "        )\n",
       "      )\n",
       "      (4): MPNetLayer(\n",
       "        (attention): MPNetAttention(\n",
       "          (attn): MPNetSelfAttention(\n",
       "            (q): Linear(in_features=768, out_features=768, bias=True)\n",
       "            (k): Linear(in_features=768, out_features=768, bias=True)\n",
       "            (v): Linear(in_features=768, out_features=768, bias=True)\n",
       "            (o): Linear(in_features=768, out_features=768, bias=True)\n",
       "            (dropout): Dropout(p=0.1, inplace=False)\n",
       "          )\n",
       "          (LayerNorm): LayerNorm((768,), eps=1e-05, elementwise_affine=True)\n",
       "          (dropout): Dropout(p=0.1, inplace=False)\n",
       "        )\n",
       "        (intermediate): MPNetIntermediate(\n",
       "          (dense): Linear(in_features=768, out_features=3072, bias=True)\n",
       "          (intermediate_act_fn): GELUActivation()\n",
       "        )\n",
       "        (output): MPNetOutput(\n",
       "          (dense): Linear(in_features=3072, out_features=768, bias=True)\n",
       "          (LayerNorm): LayerNorm((768,), eps=1e-05, elementwise_affine=True)\n",
       "          (dropout): Dropout(p=0.1, inplace=False)\n",
       "        )\n",
       "      )\n",
       "      (5): MPNetLayer(\n",
       "        (attention): MPNetAttention(\n",
       "          (attn): MPNetSelfAttention(\n",
       "            (q): Linear(in_features=768, out_features=768, bias=True)\n",
       "            (k): Linear(in_features=768, out_features=768, bias=True)\n",
       "            (v): Linear(in_features=768, out_features=768, bias=True)\n",
       "            (o): Linear(in_features=768, out_features=768, bias=True)\n",
       "            (dropout): Dropout(p=0.1, inplace=False)\n",
       "          )\n",
       "          (LayerNorm): LayerNorm((768,), eps=1e-05, elementwise_affine=True)\n",
       "          (dropout): Dropout(p=0.1, inplace=False)\n",
       "        )\n",
       "        (intermediate): MPNetIntermediate(\n",
       "          (dense): Linear(in_features=768, out_features=3072, bias=True)\n",
       "          (intermediate_act_fn): GELUActivation()\n",
       "        )\n",
       "        (output): MPNetOutput(\n",
       "          (dense): Linear(in_features=3072, out_features=768, bias=True)\n",
       "          (LayerNorm): LayerNorm((768,), eps=1e-05, elementwise_affine=True)\n",
       "          (dropout): Dropout(p=0.1, inplace=False)\n",
       "        )\n",
       "      )\n",
       "      (6): MPNetLayer(\n",
       "        (attention): MPNetAttention(\n",
       "          (attn): MPNetSelfAttention(\n",
       "            (q): Linear(in_features=768, out_features=768, bias=True)\n",
       "            (k): Linear(in_features=768, out_features=768, bias=True)\n",
       "            (v): Linear(in_features=768, out_features=768, bias=True)\n",
       "            (o): Linear(in_features=768, out_features=768, bias=True)\n",
       "            (dropout): Dropout(p=0.1, inplace=False)\n",
       "          )\n",
       "          (LayerNorm): LayerNorm((768,), eps=1e-05, elementwise_affine=True)\n",
       "          (dropout): Dropout(p=0.1, inplace=False)\n",
       "        )\n",
       "        (intermediate): MPNetIntermediate(\n",
       "          (dense): Linear(in_features=768, out_features=3072, bias=True)\n",
       "          (intermediate_act_fn): GELUActivation()\n",
       "        )\n",
       "        (output): MPNetOutput(\n",
       "          (dense): Linear(in_features=3072, out_features=768, bias=True)\n",
       "          (LayerNorm): LayerNorm((768,), eps=1e-05, elementwise_affine=True)\n",
       "          (dropout): Dropout(p=0.1, inplace=False)\n",
       "        )\n",
       "      )\n",
       "      (7): MPNetLayer(\n",
       "        (attention): MPNetAttention(\n",
       "          (attn): MPNetSelfAttention(\n",
       "            (q): Linear(in_features=768, out_features=768, bias=True)\n",
       "            (k): Linear(in_features=768, out_features=768, bias=True)\n",
       "            (v): Linear(in_features=768, out_features=768, bias=True)\n",
       "            (o): Linear(in_features=768, out_features=768, bias=True)\n",
       "            (dropout): Dropout(p=0.1, inplace=False)\n",
       "          )\n",
       "          (LayerNorm): LayerNorm((768,), eps=1e-05, elementwise_affine=True)\n",
       "          (dropout): Dropout(p=0.1, inplace=False)\n",
       "        )\n",
       "        (intermediate): MPNetIntermediate(\n",
       "          (dense): Linear(in_features=768, out_features=3072, bias=True)\n",
       "          (intermediate_act_fn): GELUActivation()\n",
       "        )\n",
       "        (output): MPNetOutput(\n",
       "          (dense): Linear(in_features=3072, out_features=768, bias=True)\n",
       "          (LayerNorm): LayerNorm((768,), eps=1e-05, elementwise_affine=True)\n",
       "          (dropout): Dropout(p=0.1, inplace=False)\n",
       "        )\n",
       "      )\n",
       "      (8): MPNetLayer(\n",
       "        (attention): MPNetAttention(\n",
       "          (attn): MPNetSelfAttention(\n",
       "            (q): Linear(in_features=768, out_features=768, bias=True)\n",
       "            (k): Linear(in_features=768, out_features=768, bias=True)\n",
       "            (v): Linear(in_features=768, out_features=768, bias=True)\n",
       "            (o): Linear(in_features=768, out_features=768, bias=True)\n",
       "            (dropout): Dropout(p=0.1, inplace=False)\n",
       "          )\n",
       "          (LayerNorm): LayerNorm((768,), eps=1e-05, elementwise_affine=True)\n",
       "          (dropout): Dropout(p=0.1, inplace=False)\n",
       "        )\n",
       "        (intermediate): MPNetIntermediate(\n",
       "          (dense): Linear(in_features=768, out_features=3072, bias=True)\n",
       "          (intermediate_act_fn): GELUActivation()\n",
       "        )\n",
       "        (output): MPNetOutput(\n",
       "          (dense): Linear(in_features=3072, out_features=768, bias=True)\n",
       "          (LayerNorm): LayerNorm((768,), eps=1e-05, elementwise_affine=True)\n",
       "          (dropout): Dropout(p=0.1, inplace=False)\n",
       "        )\n",
       "      )\n",
       "      (9): MPNetLayer(\n",
       "        (attention): MPNetAttention(\n",
       "          (attn): MPNetSelfAttention(\n",
       "            (q): Linear(in_features=768, out_features=768, bias=True)\n",
       "            (k): Linear(in_features=768, out_features=768, bias=True)\n",
       "            (v): Linear(in_features=768, out_features=768, bias=True)\n",
       "            (o): Linear(in_features=768, out_features=768, bias=True)\n",
       "            (dropout): Dropout(p=0.1, inplace=False)\n",
       "          )\n",
       "          (LayerNorm): LayerNorm((768,), eps=1e-05, elementwise_affine=True)\n",
       "          (dropout): Dropout(p=0.1, inplace=False)\n",
       "        )\n",
       "        (intermediate): MPNetIntermediate(\n",
       "          (dense): Linear(in_features=768, out_features=3072, bias=True)\n",
       "          (intermediate_act_fn): GELUActivation()\n",
       "        )\n",
       "        (output): MPNetOutput(\n",
       "          (dense): Linear(in_features=3072, out_features=768, bias=True)\n",
       "          (LayerNorm): LayerNorm((768,), eps=1e-05, elementwise_affine=True)\n",
       "          (dropout): Dropout(p=0.1, inplace=False)\n",
       "        )\n",
       "      )\n",
       "      (10): MPNetLayer(\n",
       "        (attention): MPNetAttention(\n",
       "          (attn): MPNetSelfAttention(\n",
       "            (q): Linear(in_features=768, out_features=768, bias=True)\n",
       "            (k): Linear(in_features=768, out_features=768, bias=True)\n",
       "            (v): Linear(in_features=768, out_features=768, bias=True)\n",
       "            (o): Linear(in_features=768, out_features=768, bias=True)\n",
       "            (dropout): Dropout(p=0.1, inplace=False)\n",
       "          )\n",
       "          (LayerNorm): LayerNorm((768,), eps=1e-05, elementwise_affine=True)\n",
       "          (dropout): Dropout(p=0.1, inplace=False)\n",
       "        )\n",
       "        (intermediate): MPNetIntermediate(\n",
       "          (dense): Linear(in_features=768, out_features=3072, bias=True)\n",
       "          (intermediate_act_fn): GELUActivation()\n",
       "        )\n",
       "        (output): MPNetOutput(\n",
       "          (dense): Linear(in_features=3072, out_features=768, bias=True)\n",
       "          (LayerNorm): LayerNorm((768,), eps=1e-05, elementwise_affine=True)\n",
       "          (dropout): Dropout(p=0.1, inplace=False)\n",
       "        )\n",
       "      )\n",
       "      (11): MPNetLayer(\n",
       "        (attention): MPNetAttention(\n",
       "          (attn): MPNetSelfAttention(\n",
       "            (q): Linear(in_features=768, out_features=768, bias=True)\n",
       "            (k): Linear(in_features=768, out_features=768, bias=True)\n",
       "            (v): Linear(in_features=768, out_features=768, bias=True)\n",
       "            (o): Linear(in_features=768, out_features=768, bias=True)\n",
       "            (dropout): Dropout(p=0.1, inplace=False)\n",
       "          )\n",
       "          (LayerNorm): LayerNorm((768,), eps=1e-05, elementwise_affine=True)\n",
       "          (dropout): Dropout(p=0.1, inplace=False)\n",
       "        )\n",
       "        (intermediate): MPNetIntermediate(\n",
       "          (dense): Linear(in_features=768, out_features=3072, bias=True)\n",
       "          (intermediate_act_fn): GELUActivation()\n",
       "        )\n",
       "        (output): MPNetOutput(\n",
       "          (dense): Linear(in_features=3072, out_features=768, bias=True)\n",
       "          (LayerNorm): LayerNorm((768,), eps=1e-05, elementwise_affine=True)\n",
       "          (dropout): Dropout(p=0.1, inplace=False)\n",
       "        )\n",
       "      )\n",
       "    )\n",
       "    (relative_attention_bias): Embedding(32, 12)\n",
       "  )\n",
       "  (pooler): MPNetPooler(\n",
       "    (dense): Linear(in_features=768, out_features=768, bias=True)\n",
       "    (activation): Tanh()\n",
       "  )\n",
       ")"
      ]
     },
     "execution_count": 3,
     "metadata": {},
     "output_type": "execute_result"
    }
   ],
   "source": [
    "model"
   ]
  },
  {
   "cell_type": "code",
   "execution_count": null,
   "metadata": {},
   "outputs": [
    {
     "name": "stdout",
     "output_type": "stream",
     "text": [
      "embeddings.word_embeddings.weight\n",
      "embeddings.position_embeddings.weight\n",
      "embeddings.LayerNorm.weight\n",
      "embeddings.LayerNorm.bias\n",
      "encoder.layer.0.attention.attn.q.weight\n",
      "encoder.layer.0.attention.attn.q.bias\n",
      "encoder.layer.0.attention.attn.k.weight\n",
      "encoder.layer.0.attention.attn.k.bias\n",
      "encoder.layer.0.attention.attn.v.weight\n",
      "encoder.layer.0.attention.attn.v.bias\n",
      "encoder.layer.0.attention.attn.o.weight\n",
      "encoder.layer.0.attention.attn.o.bias\n",
      "encoder.layer.0.attention.LayerNorm.weight\n",
      "encoder.layer.0.attention.LayerNorm.bias\n",
      "encoder.layer.0.intermediate.dense.weight\n",
      "encoder.layer.0.intermediate.dense.bias\n",
      "encoder.layer.0.output.dense.weight\n",
      "encoder.layer.0.output.dense.bias\n",
      "encoder.layer.0.output.LayerNorm.weight\n",
      "encoder.layer.0.output.LayerNorm.bias\n",
      "encoder.layer.1.attention.attn.q.weight\n",
      "encoder.layer.1.attention.attn.q.bias\n",
      "encoder.layer.1.attention.attn.k.weight\n",
      "encoder.layer.1.attention.attn.k.bias\n",
      "encoder.layer.1.attention.attn.v.weight\n",
      "encoder.layer.1.attention.attn.v.bias\n",
      "encoder.layer.1.attention.attn.o.weight\n",
      "encoder.layer.1.attention.attn.o.bias\n",
      "encoder.layer.1.attention.LayerNorm.weight\n",
      "encoder.layer.1.attention.LayerNorm.bias\n",
      "encoder.layer.1.intermediate.dense.weight\n",
      "encoder.layer.1.intermediate.dense.bias\n",
      "encoder.layer.1.output.dense.weight\n",
      "encoder.layer.1.output.dense.bias\n",
      "encoder.layer.1.output.LayerNorm.weight\n",
      "encoder.layer.1.output.LayerNorm.bias\n",
      "encoder.layer.2.attention.attn.q.weight\n",
      "encoder.layer.2.attention.attn.q.bias\n",
      "encoder.layer.2.attention.attn.k.weight\n",
      "encoder.layer.2.attention.attn.k.bias\n",
      "encoder.layer.2.attention.attn.v.weight\n",
      "encoder.layer.2.attention.attn.v.bias\n",
      "encoder.layer.2.attention.attn.o.weight\n",
      "encoder.layer.2.attention.attn.o.bias\n",
      "encoder.layer.2.attention.LayerNorm.weight\n",
      "encoder.layer.2.attention.LayerNorm.bias\n",
      "encoder.layer.2.intermediate.dense.weight\n",
      "encoder.layer.2.intermediate.dense.bias\n",
      "encoder.layer.2.output.dense.weight\n",
      "encoder.layer.2.output.dense.bias\n",
      "encoder.layer.2.output.LayerNorm.weight\n",
      "encoder.layer.2.output.LayerNorm.bias\n",
      "encoder.layer.3.attention.attn.q.weight\n",
      "encoder.layer.3.attention.attn.q.bias\n",
      "encoder.layer.3.attention.attn.k.weight\n",
      "encoder.layer.3.attention.attn.k.bias\n",
      "encoder.layer.3.attention.attn.v.weight\n",
      "encoder.layer.3.attention.attn.v.bias\n",
      "encoder.layer.3.attention.attn.o.weight\n",
      "encoder.layer.3.attention.attn.o.bias\n",
      "encoder.layer.3.attention.LayerNorm.weight\n",
      "encoder.layer.3.attention.LayerNorm.bias\n",
      "encoder.layer.3.intermediate.dense.weight\n",
      "encoder.layer.3.intermediate.dense.bias\n",
      "encoder.layer.3.output.dense.weight\n",
      "encoder.layer.3.output.dense.bias\n",
      "encoder.layer.3.output.LayerNorm.weight\n",
      "encoder.layer.3.output.LayerNorm.bias\n",
      "encoder.layer.4.attention.attn.q.weight\n",
      "encoder.layer.4.attention.attn.q.bias\n",
      "encoder.layer.4.attention.attn.k.weight\n",
      "encoder.layer.4.attention.attn.k.bias\n",
      "encoder.layer.4.attention.attn.v.weight\n",
      "encoder.layer.4.attention.attn.v.bias\n",
      "encoder.layer.4.attention.attn.o.weight\n",
      "encoder.layer.4.attention.attn.o.bias\n",
      "encoder.layer.4.attention.LayerNorm.weight\n",
      "encoder.layer.4.attention.LayerNorm.bias\n",
      "encoder.layer.4.intermediate.dense.weight\n",
      "encoder.layer.4.intermediate.dense.bias\n",
      "encoder.layer.4.output.dense.weight\n",
      "encoder.layer.4.output.dense.bias\n",
      "encoder.layer.4.output.LayerNorm.weight\n",
      "encoder.layer.4.output.LayerNorm.bias\n",
      "encoder.layer.5.attention.attn.q.weight\n",
      "encoder.layer.5.attention.attn.q.bias\n",
      "encoder.layer.5.attention.attn.k.weight\n",
      "encoder.layer.5.attention.attn.k.bias\n",
      "encoder.layer.5.attention.attn.v.weight\n",
      "encoder.layer.5.attention.attn.v.bias\n",
      "encoder.layer.5.attention.attn.o.weight\n",
      "encoder.layer.5.attention.attn.o.bias\n",
      "encoder.layer.5.attention.LayerNorm.weight\n",
      "encoder.layer.5.attention.LayerNorm.bias\n",
      "encoder.layer.5.intermediate.dense.weight\n",
      "encoder.layer.5.intermediate.dense.bias\n",
      "encoder.layer.5.output.dense.weight\n",
      "encoder.layer.5.output.dense.bias\n",
      "encoder.layer.5.output.LayerNorm.weight\n",
      "encoder.layer.5.output.LayerNorm.bias\n",
      "encoder.layer.6.attention.attn.q.weight\n",
      "encoder.layer.6.attention.attn.q.bias\n",
      "encoder.layer.6.attention.attn.k.weight\n",
      "encoder.layer.6.attention.attn.k.bias\n",
      "encoder.layer.6.attention.attn.v.weight\n",
      "encoder.layer.6.attention.attn.v.bias\n",
      "encoder.layer.6.attention.attn.o.weight\n",
      "encoder.layer.6.attention.attn.o.bias\n",
      "encoder.layer.6.attention.LayerNorm.weight\n",
      "encoder.layer.6.attention.LayerNorm.bias\n",
      "encoder.layer.6.intermediate.dense.weight\n",
      "encoder.layer.6.intermediate.dense.bias\n",
      "encoder.layer.6.output.dense.weight\n",
      "encoder.layer.6.output.dense.bias\n",
      "encoder.layer.6.output.LayerNorm.weight\n",
      "encoder.layer.6.output.LayerNorm.bias\n",
      "encoder.layer.7.attention.attn.q.weight\n",
      "encoder.layer.7.attention.attn.q.bias\n",
      "encoder.layer.7.attention.attn.k.weight\n",
      "encoder.layer.7.attention.attn.k.bias\n",
      "encoder.layer.7.attention.attn.v.weight\n",
      "encoder.layer.7.attention.attn.v.bias\n",
      "encoder.layer.7.attention.attn.o.weight\n",
      "encoder.layer.7.attention.attn.o.bias\n",
      "encoder.layer.7.attention.LayerNorm.weight\n",
      "encoder.layer.7.attention.LayerNorm.bias\n",
      "encoder.layer.7.intermediate.dense.weight\n",
      "encoder.layer.7.intermediate.dense.bias\n",
      "encoder.layer.7.output.dense.weight\n",
      "encoder.layer.7.output.dense.bias\n",
      "encoder.layer.7.output.LayerNorm.weight\n",
      "encoder.layer.7.output.LayerNorm.bias\n",
      "encoder.layer.8.attention.attn.q.weight\n",
      "encoder.layer.8.attention.attn.q.bias\n",
      "encoder.layer.8.attention.attn.k.weight\n",
      "encoder.layer.8.attention.attn.k.bias\n",
      "encoder.layer.8.attention.attn.v.weight\n",
      "encoder.layer.8.attention.attn.v.bias\n",
      "encoder.layer.8.attention.attn.o.weight\n",
      "encoder.layer.8.attention.attn.o.bias\n",
      "encoder.layer.8.attention.LayerNorm.weight\n",
      "encoder.layer.8.attention.LayerNorm.bias\n",
      "encoder.layer.8.intermediate.dense.weight\n",
      "encoder.layer.8.intermediate.dense.bias\n",
      "encoder.layer.8.output.dense.weight\n",
      "encoder.layer.8.output.dense.bias\n",
      "encoder.layer.8.output.LayerNorm.weight\n",
      "encoder.layer.8.output.LayerNorm.bias\n",
      "encoder.layer.9.attention.attn.q.weight\n",
      "encoder.layer.9.attention.attn.q.bias\n",
      "encoder.layer.9.attention.attn.k.weight\n",
      "encoder.layer.9.attention.attn.k.bias\n",
      "encoder.layer.9.attention.attn.v.weight\n",
      "encoder.layer.9.attention.attn.v.bias\n",
      "encoder.layer.9.attention.attn.o.weight\n",
      "encoder.layer.9.attention.attn.o.bias\n",
      "encoder.layer.9.attention.LayerNorm.weight\n",
      "encoder.layer.9.attention.LayerNorm.bias\n",
      "encoder.layer.9.intermediate.dense.weight\n",
      "encoder.layer.9.intermediate.dense.bias\n",
      "encoder.layer.9.output.dense.weight\n",
      "encoder.layer.9.output.dense.bias\n",
      "encoder.layer.9.output.LayerNorm.weight\n",
      "encoder.layer.9.output.LayerNorm.bias\n",
      "encoder.layer.10.attention.attn.q.weight\n",
      "encoder.layer.10.attention.attn.q.bias\n",
      "encoder.layer.10.attention.attn.k.weight\n",
      "encoder.layer.10.attention.attn.k.bias\n",
      "encoder.layer.10.attention.attn.v.weight\n",
      "encoder.layer.10.attention.attn.v.bias\n",
      "encoder.layer.10.attention.attn.o.weight\n",
      "encoder.layer.10.attention.attn.o.bias\n",
      "encoder.layer.10.attention.LayerNorm.weight\n",
      "encoder.layer.10.attention.LayerNorm.bias\n",
      "encoder.layer.10.intermediate.dense.weight\n",
      "encoder.layer.10.intermediate.dense.bias\n",
      "encoder.layer.10.output.dense.weight\n",
      "encoder.layer.10.output.dense.bias\n",
      "encoder.layer.10.output.LayerNorm.weight\n",
      "encoder.layer.10.output.LayerNorm.bias\n",
      "encoder.layer.11.attention.attn.q.weight\n",
      "encoder.layer.11.attention.attn.q.bias\n",
      "encoder.layer.11.attention.attn.k.weight\n",
      "encoder.layer.11.attention.attn.k.bias\n",
      "encoder.layer.11.attention.attn.v.weight\n",
      "encoder.layer.11.attention.attn.v.bias\n",
      "encoder.layer.11.attention.attn.o.weight\n",
      "encoder.layer.11.attention.attn.o.bias\n",
      "encoder.layer.11.attention.LayerNorm.weight\n",
      "encoder.layer.11.attention.LayerNorm.bias\n",
      "encoder.layer.11.intermediate.dense.weight\n",
      "encoder.layer.11.intermediate.dense.bias\n",
      "encoder.layer.11.output.dense.weight\n",
      "encoder.layer.11.output.dense.bias\n",
      "encoder.layer.11.output.LayerNorm.weight\n",
      "encoder.layer.11.output.LayerNorm.bias\n",
      "encoder.relative_attention_bias.weight\n",
      "pooler.dense.weight\n",
      "pooler.dense.bias\n"
     ]
    }
   ],
   "source": [
    "for name, param in model.named_parameters():\n",
    "    print(name)"
   ]
  },
  {
   "cell_type": "code",
   "execution_count": null,
   "metadata": {},
   "outputs": [],
   "source": [
    "from transformers import AutoTokenizer, AutoModel\n",
    "import torch\n",
    "import torch.nn.functional as F\n",
    "\n",
    "# Mean Pooling - Take attention mask into account for correct averaging\n",
    "def mean_pooling(model_output, attention_mask):\n",
    "    token_embeddings = model_output[0] # First element of model_output contains all token embeddings\n",
    "    input_mask_expanded = attention_mask.unsqueeze(-1) #.expand(token_embeddings.size()).float()\n",
    "    return torch.sum(token_embeddings * input_mask_expanded, 1) / torch.clamp(input_mask_expanded.sum(1), min=1e-9)\n",
    "\n",
    "# Sentences we want sentence embeddings for\n",
    "sentences = [[\"Cat scratch injury\", \"Cat scratch disease hi\"], [\"Bartonellosis\"]]\n",
    "\n",
    "# Load model from HuggingFace Hub\n",
    "tokenizer = AutoTokenizer.from_pretrained('FremyCompany/BioLORD-STAMB2-v1')\n",
    "model = AutoModel.from_pretrained('FremyCompany/BioLORD-STAMB2-v1', output_hidden_states=False, output_attentions=False)\n",
    "\n",
    "# Tokenize sentences\n",
    "encoded_input = []\n",
    "for sntc in sentences:\n",
    "    tokenized_input = tokenizer(sntc, padding=True, truncation=True, return_tensors='pt')\n",
    "    encoded_input.append(tokenized_input)\n",
    "\n",
    "# Compute token embeddings\n",
    "model_outputs = []\n",
    "with torch.no_grad():\n",
    "    for data_point in encoded_input:\n",
    "        model_outputs.append(model(**data_point))\n",
    "\n",
    "sentence_embeddings = []\n",
    "for idx, model_output in enumerate(model_outputs):\n",
    "    # Perform pooling\n",
    "    sentence_embedding = mean_pooling(model_output, encoded_input[idx]['attention_mask'])\n",
    "    # Normalize embeddings\n",
    "    sentence_embedding = F.normalize(sentence_embedding, p=2, dim=1)\n",
    "    sentence_embeddings.append(sentence_embedding)\n",
    "\n",
    "# print(\"Sentence embeddings:\")\n",
    "# print(sentence_embeddings)"
   ]
  },
  {
   "cell_type": "code",
   "execution_count": null,
   "metadata": {},
   "outputs": [
    {
     "data": {
      "text/plain": [
       "[{'input_ids': tensor([[    0,  4941, 11973,  4548,     2,     1],\n",
       "         [    0,  4941, 11973,  4299,  7636,     2]]), 'attention_mask': tensor([[1, 1, 1, 1, 1, 0],\n",
       "         [1, 1, 1, 1, 1, 1]])},\n",
       " {'input_ids': tensor([[    0, 12979, 15354,  6194,     2]]), 'attention_mask': tensor([[1, 1, 1, 1, 1]])}]"
      ]
     },
     "execution_count": 23,
     "metadata": {},
     "output_type": "execute_result"
    }
   ],
   "source": [
    "encoded_input"
   ]
  },
  {
   "cell_type": "code",
   "execution_count": null,
   "metadata": {},
   "outputs": [
    {
     "name": "stdout",
     "output_type": "stream",
     "text": [
      "torch.Size([1, 5])\n",
      "torch.Size([1, 5])\n"
     ]
    }
   ],
   "source": [
    "print(encoded_input[1][\"input_ids\"].shape)\n",
    "print(encoded_input[1][\"attention_mask\"].shape)"
   ]
  },
  {
   "cell_type": "code",
   "execution_count": null,
   "metadata": {},
   "outputs": [
    {
     "data": {
      "text/plain": [
       "torch.Size([1, 5, 768])"
      ]
     },
     "execution_count": 9,
     "metadata": {},
     "output_type": "execute_result"
    }
   ],
   "source": [
    "model_outputs[1]['last_hidden_state'].shape"
   ]
  },
  {
   "cell_type": "code",
   "execution_count": null,
   "metadata": {},
   "outputs": [
    {
     "data": {
      "text/plain": [
       "[BaseModelOutputWithPooling(last_hidden_state=tensor([[[-0.0870,  0.0645,  0.0098,  ...,  0.0424, -0.0181,  0.1190],\n",
       "          [ 0.0227,  0.2596,  0.0271,  ...,  0.1137, -0.0223,  0.0496],\n",
       "          [ 0.0836,  0.0473, -0.0310,  ...,  0.1554, -0.0554,  0.1379],\n",
       "          [-0.0267,  0.1297, -0.0454,  ...,  0.1109, -0.0114,  0.1192],\n",
       "          [-0.0958,  0.0872,  0.0079,  ...,  0.0675,  0.0018,  0.1379],\n",
       "          [-0.0861,  0.0774, -0.0070,  ...,  0.0501, -0.0143,  0.1292]],\n",
       " \n",
       "         [[ 0.0284,  0.2059,  0.0289,  ...,  0.1025, -0.0290,  0.0381],\n",
       "          [ 0.1187,  0.4395, -0.0072,  ...,  0.0496,  0.0509,  0.0447],\n",
       "          [ 0.1225,  0.2441, -0.0607,  ...,  0.0828, -0.0102,  0.0117],\n",
       "          [ 0.0516,  0.3985,  0.0582,  ...,  0.0559, -0.0555, -0.0151],\n",
       "          [ 0.1033,  0.4640,  0.0588,  ...,  0.0649,  0.0380,  0.1025],\n",
       "          [-0.0066,  0.1456,  0.0037,  ...,  0.1302, -0.0198,  0.0529]]]), pooler_output=tensor([[ 0.0536, -0.0376,  0.0206,  ...,  0.0074,  0.0521,  0.0498],\n",
       "         [ 0.0573,  0.0146,  0.0503,  ...,  0.0331,  0.1084,  0.0478]]), hidden_states=None, attentions=None),\n",
       " BaseModelOutputWithPooling(last_hidden_state=tensor([[[ 0.1134,  0.0186, -0.0896,  ...,  0.0255,  0.0089, -0.0447],\n",
       "          [ 0.2268, -0.0673, -0.0163,  ...,  0.0020,  0.1030,  0.0633],\n",
       "          [ 0.1815,  0.1568, -0.1002,  ..., -0.0230, -0.0991, -0.1654],\n",
       "          [ 0.1625,  0.0854, -0.0130,  ..., -0.0167, -0.0413, -0.0978],\n",
       "          [ 0.1059,  0.0073, -0.0802,  ...,  0.0256, -0.0100, -0.0377]]]), pooler_output=tensor([[ 1.7481e-02,  2.9381e-02,  7.7495e-02,  1.7546e-02, -5.0285e-02,\n",
       "           7.8800e-02,  3.6270e-02,  9.7496e-02, -9.3990e-02,  1.5438e-02,\n",
       "          -1.7645e-02, -6.0238e-02, -7.2919e-02,  1.0815e-01, -4.3159e-02,\n",
       "           5.2691e-02, -7.2418e-02,  1.9803e-02, -9.2485e-03, -1.2990e-02,\n",
       "          -6.3426e-03, -1.3635e-01,  2.7911e-02, -6.1370e-03,  7.0036e-02,\n",
       "           6.5710e-02,  5.4384e-02,  4.7814e-02,  7.7439e-02, -7.7713e-02,\n",
       "           1.6077e-02,  4.3886e-02,  4.3067e-02, -6.4360e-03, -3.0062e-02,\n",
       "           2.7123e-02,  5.5936e-03,  6.4109e-02,  1.0112e-02,  1.1723e-01,\n",
       "          -5.6719e-02, -1.4988e-02, -1.8411e-02, -7.5306e-02, -1.2646e-01,\n",
       "          -2.4040e-02, -8.6241e-02,  7.5623e-02, -1.8611e-02, -8.9535e-02,\n",
       "           3.9267e-02, -5.4353e-02,  1.0899e-01, -1.0934e-01, -5.6533e-02,\n",
       "           4.4881e-02,  5.1218e-02,  3.2401e-02,  8.8494e-02,  3.3245e-02,\n",
       "           1.1972e-01,  8.0287e-02,  7.6050e-02, -6.4248e-02,  1.7321e-01,\n",
       "           1.0925e-02, -2.8726e-02, -7.8035e-02,  1.0044e-01, -3.8168e-02,\n",
       "          -4.4050e-02, -5.6110e-03, -3.8708e-02,  6.1261e-02, -5.6630e-02,\n",
       "           4.8437e-02, -5.7849e-02, -7.0791e-02, -1.1608e-02,  9.5235e-02,\n",
       "           1.6296e-02,  6.7717e-03,  7.7533e-04,  1.3574e-01, -2.7570e-02,\n",
       "          -5.0954e-03, -5.4177e-02, -1.3864e-02, -1.6712e-02, -6.7101e-02,\n",
       "          -3.1625e-02,  7.7600e-02, -3.4811e-02,  2.4832e-02,  6.0773e-04,\n",
       "           1.5469e-02, -2.0821e-02, -6.1185e-02, -7.2729e-02, -5.0748e-02,\n",
       "          -9.7787e-02,  6.9399e-02,  7.0616e-03, -2.7760e-02,  4.3878e-02,\n",
       "          -1.0602e-01, -2.5673e-02,  3.4162e-03, -4.8398e-02,  7.7163e-03,\n",
       "           8.6335e-02,  1.0869e-01, -6.1768e-02,  3.3534e-02, -1.0203e-02,\n",
       "          -9.9465e-02,  7.1640e-03,  8.4964e-02, -1.1140e-02, -7.7985e-02,\n",
       "          -4.7777e-02, -5.6564e-02,  6.2671e-02,  7.6383e-02, -1.8193e-02,\n",
       "          -3.1799e-02, -1.8765e-02,  5.2702e-05, -1.6510e-02,  6.7697e-02,\n",
       "           3.4180e-02,  7.6868e-02, -1.1719e-01,  2.7049e-02,  7.2371e-03,\n",
       "          -4.0701e-02,  1.4216e-02,  2.8263e-02,  1.0605e-01, -1.9397e-02,\n",
       "           2.2449e-02,  7.4680e-02,  5.6904e-02, -1.2713e-01, -8.1465e-03,\n",
       "           7.1284e-02, -3.9653e-04, -5.8335e-02,  1.3876e-01, -5.0999e-02,\n",
       "          -1.5957e-02, -2.6401e-02, -3.3863e-02, -8.1079e-02,  6.1889e-02,\n",
       "           7.0068e-02,  4.2551e-02,  7.7819e-02,  6.1978e-02, -4.0209e-02,\n",
       "          -6.7646e-02, -2.6768e-02, -1.7442e-02,  3.0025e-02, -7.7279e-03,\n",
       "          -1.4808e-02, -3.1844e-02, -2.0781e-02, -5.5598e-02,  3.1915e-02,\n",
       "           1.0814e-02, -3.2993e-02,  1.0363e-01,  9.2316e-02, -9.8483e-02,\n",
       "          -4.1083e-02,  9.8241e-02,  1.2470e-01, -3.9925e-02,  2.3532e-02,\n",
       "          -1.0139e-01,  3.5143e-02,  1.0055e-03,  6.3494e-03, -8.3227e-02,\n",
       "           1.4115e-02, -1.0734e-01, -1.9485e-02,  6.2379e-02,  9.2732e-03,\n",
       "           1.1072e-01,  1.0385e-01,  2.8224e-02, -5.2532e-02,  2.2293e-02,\n",
       "           1.4579e-02, -8.2987e-03,  1.8473e-01,  2.8323e-02,  3.0601e-02,\n",
       "          -1.9622e-02,  4.8587e-02,  6.6334e-02,  7.5892e-02, -8.2590e-03,\n",
       "           2.0727e-03, -5.1612e-02, -7.7086e-02, -3.3500e-02,  1.0628e-01,\n",
       "          -5.8633e-02,  1.1222e-02,  4.3400e-02, -4.7552e-02, -3.3342e-02,\n",
       "           1.3878e-02, -4.1632e-03,  2.4890e-02, -1.4744e-01,  6.7236e-02,\n",
       "           2.8203e-03,  6.7759e-02,  8.1189e-02, -7.0107e-02, -3.8005e-02,\n",
       "          -9.4988e-02, -1.2586e-01,  8.3756e-02,  9.6957e-02, -6.9589e-02,\n",
       "           1.1650e-01, -7.8670e-02, -5.9779e-02, -6.5868e-02, -2.0400e-02,\n",
       "           7.1621e-02,  3.9055e-02,  6.0246e-02,  5.8302e-02, -6.7860e-02,\n",
       "          -6.3473e-02, -8.7078e-02,  1.7452e-02, -1.1604e-01,  5.4613e-02,\n",
       "           8.3298e-02, -5.9653e-02,  1.3209e-01,  5.6202e-03,  2.6636e-03,\n",
       "          -1.7755e-03,  1.1634e-01, -1.8167e-01,  2.0240e-02,  3.3071e-02,\n",
       "           1.2456e-01, -3.3499e-03, -4.1666e-02,  1.1828e-01,  1.3892e-02,\n",
       "           1.2743e-01, -3.2921e-02, -9.0986e-02, -5.9894e-02,  4.4778e-02,\n",
       "          -2.1624e-02,  7.8218e-02,  2.4805e-02, -6.5997e-02, -3.2526e-02,\n",
       "           1.2697e-02, -8.3214e-02,  6.9269e-02, -3.1176e-02,  3.7030e-02,\n",
       "           5.7257e-02,  7.3224e-02,  4.3871e-02, -4.0975e-02, -8.1907e-03,\n",
       "           7.1662e-02, -2.8902e-02,  1.5287e-01,  5.1022e-02, -2.3266e-02,\n",
       "          -1.8049e-03,  1.0418e-01, -1.2056e-02, -3.3681e-02, -9.3750e-02,\n",
       "          -7.0009e-02,  2.8462e-03, -1.6811e-02, -5.6082e-02, -8.8979e-02,\n",
       "           8.4652e-02,  3.1887e-02, -1.5134e-01,  9.9739e-02, -9.8747e-02,\n",
       "          -4.9784e-02,  1.6419e-01, -7.9115e-02, -5.1419e-02,  2.4835e-02,\n",
       "           3.6198e-02, -4.9988e-02,  6.4872e-02, -4.9419e-02,  2.0441e-03,\n",
       "          -5.3395e-02, -7.2769e-02, -3.5551e-02,  5.1827e-02,  2.9323e-02,\n",
       "           5.8827e-02, -2.9947e-02, -5.1515e-02,  4.5875e-02,  1.1580e-02,\n",
       "          -1.5196e-02,  1.3571e-01, -6.5807e-02, -5.6432e-02, -4.1201e-03,\n",
       "           3.1166e-02,  7.2902e-02,  1.4003e-01,  3.5407e-02, -5.1118e-02,\n",
       "          -8.4632e-02,  3.6064e-02,  7.3178e-04,  1.8106e-02, -3.5627e-02,\n",
       "          -2.3003e-02, -3.0466e-02, -2.5724e-02,  1.0609e-01,  9.7647e-03,\n",
       "           3.9357e-02, -5.0010e-02, -1.9182e-02, -1.2865e-01, -1.5121e-01,\n",
       "           1.5809e-01,  7.0635e-02,  4.9430e-02, -9.2441e-02,  1.3819e-02,\n",
       "          -7.9463e-03,  1.2033e-01,  3.2440e-02, -3.0229e-02,  9.9431e-02,\n",
       "           1.9866e-02,  4.2900e-02, -8.0488e-02, -5.8626e-03,  7.3085e-02,\n",
       "          -2.6678e-02, -5.9488e-02,  4.4540e-02, -1.3081e-01,  1.9519e-03,\n",
       "          -5.5241e-02,  5.0260e-02, -1.3281e-01,  1.4784e-01,  1.2354e-01,\n",
       "           4.9364e-02,  5.3186e-02,  8.7590e-02, -4.4952e-03, -8.8948e-02,\n",
       "           7.2967e-02, -5.0742e-02,  1.1791e-02,  5.9991e-02,  7.5482e-03,\n",
       "          -2.2065e-02,  4.3815e-02, -2.4492e-02, -3.9165e-02, -4.5583e-03,\n",
       "           1.0259e-01,  1.2812e-01, -4.2410e-02, -7.1123e-02, -3.4843e-02,\n",
       "           7.9368e-02,  2.1501e-02,  5.0820e-02, -5.5950e-02, -5.6556e-03,\n",
       "          -7.4823e-03, -2.5773e-02,  7.6426e-02,  1.4307e-02,  1.6241e-02,\n",
       "           2.5380e-02, -2.3655e-02,  3.1705e-02,  7.8288e-02,  1.0945e-01,\n",
       "           3.8895e-02,  5.0739e-02,  1.9990e-02, -3.3391e-02,  7.9062e-02,\n",
       "          -1.0637e-01, -2.5294e-02, -3.4297e-02,  3.7116e-03, -3.4742e-02,\n",
       "           2.1042e-02, -2.1008e-02,  3.2106e-02, -1.8645e-02, -5.1740e-02,\n",
       "           8.7391e-02, -2.2365e-02,  3.3323e-02, -6.5321e-02,  2.6224e-02,\n",
       "           5.1506e-02,  8.4477e-04,  9.5402e-02, -2.9740e-02,  3.8550e-02,\n",
       "          -8.5779e-03, -1.1050e-01,  5.5512e-02, -9.2194e-02, -6.5833e-02,\n",
       "          -5.1492e-02,  2.2401e-03,  1.7846e-02, -6.9452e-02,  6.4309e-03,\n",
       "          -1.0122e-01,  4.8977e-02, -6.6016e-02,  1.4702e-01,  7.0856e-03,\n",
       "           6.5580e-02, -4.0736e-02,  3.8693e-02,  9.0622e-02, -4.6229e-02,\n",
       "           3.7279e-02,  1.0222e-01, -2.9589e-02,  2.3248e-02, -1.2562e-01,\n",
       "           6.4910e-02, -1.0764e-01, -1.2377e-01, -1.4570e-02,  9.8118e-02,\n",
       "          -1.1600e-01, -5.1890e-02,  9.9048e-02,  2.8958e-02,  1.3750e-02,\n",
       "           2.7433e-02, -1.9952e-02, -4.2768e-02, -7.8814e-02, -1.2830e-01,\n",
       "          -4.1467e-02, -2.1269e-02, -4.2412e-02, -9.5695e-03,  8.3111e-02,\n",
       "          -6.6938e-02,  1.4039e-01, -1.2406e-01, -6.1111e-02,  6.7920e-02,\n",
       "           1.7284e-01, -7.3674e-02,  4.3352e-02, -2.3282e-02,  5.3873e-03,\n",
       "           3.7165e-02, -2.4236e-02,  5.5994e-02, -8.0158e-03, -4.5951e-02,\n",
       "          -1.6535e-02,  1.1182e-02, -4.0560e-02, -4.3983e-02,  4.6261e-02,\n",
       "           5.3254e-03,  5.5285e-02,  1.1359e-01,  3.7013e-02,  9.1224e-03,\n",
       "           6.1686e-02,  1.0377e-01, -1.5347e-02, -4.1310e-02,  4.5181e-03,\n",
       "           1.1365e-01,  3.2454e-02, -7.7962e-02, -3.9468e-02, -2.3407e-03,\n",
       "          -7.0834e-02,  2.3785e-02,  7.1850e-03,  1.1220e-01,  2.8696e-02,\n",
       "          -2.6085e-02,  8.9384e-02,  5.6412e-02, -4.6879e-02,  4.1752e-02,\n",
       "          -1.4484e-02, -8.0621e-02,  2.3262e-02, -6.1203e-03,  1.0579e-01,\n",
       "          -1.7761e-02,  4.6712e-02,  8.4828e-02,  1.0426e-01,  5.7904e-03,\n",
       "          -6.3087e-02, -1.2979e-02,  1.2822e-01,  9.1688e-02,  1.0940e-01,\n",
       "           4.7777e-02,  9.8529e-02,  8.3603e-02, -2.0447e-02,  3.0038e-02,\n",
       "           7.1648e-02,  3.1813e-03, -7.3982e-02,  1.1343e-01,  7.5622e-03,\n",
       "           8.5009e-02, -1.2651e-01, -3.6758e-02, -3.7199e-02, -5.6012e-03,\n",
       "           1.3267e-01, -1.4806e-02, -4.7143e-02, -2.7514e-02,  5.6432e-02,\n",
       "           6.0269e-02,  9.9315e-02,  5.5994e-02, -1.3982e-02, -1.2192e-01,\n",
       "          -6.3396e-02, -4.9588e-02,  4.4219e-02,  9.6731e-02,  8.0327e-02,\n",
       "           9.6644e-02, -1.1089e-01,  6.8468e-02, -4.0616e-02,  8.8830e-02,\n",
       "           1.1569e-02, -8.6628e-02, -6.4274e-02, -8.8383e-02,  1.2372e-01,\n",
       "          -1.8279e-02, -4.8908e-02,  3.1076e-03, -7.2199e-02, -2.5323e-02,\n",
       "          -2.7847e-02, -2.1934e-02, -3.0980e-02,  1.8334e-02,  7.4852e-02,\n",
       "           8.5658e-02,  5.4010e-02, -6.3597e-02,  1.7205e-02, -4.4310e-02,\n",
       "          -1.7562e-01, -9.1200e-02,  1.3638e-01, -1.1393e-01,  1.5228e-01,\n",
       "          -7.3087e-02,  8.0542e-03,  4.6655e-02,  6.0782e-02,  8.0551e-02,\n",
       "           1.3612e-02,  7.7466e-02, -1.7160e-02, -6.3805e-02, -5.8115e-02,\n",
       "           1.4143e-02, -8.2646e-03, -3.9048e-02, -9.8698e-02, -5.3621e-02,\n",
       "           4.8653e-02, -5.8332e-02,  8.1826e-02, -5.9754e-02, -8.2177e-02,\n",
       "          -4.3600e-02,  5.9433e-02, -7.9577e-02,  1.1457e-01,  1.5005e-02,\n",
       "           1.0018e-01,  1.6636e-02, -1.1372e-02, -2.6590e-02,  7.4341e-02,\n",
       "          -1.2854e-02, -1.2472e-01,  8.4352e-02,  1.1676e-01, -3.5614e-02,\n",
       "          -2.1503e-02,  3.7543e-02,  7.7029e-02,  4.2465e-02, -1.8848e-02,\n",
       "           5.1446e-02, -4.7842e-02, -1.9696e-01,  7.6608e-02,  7.9611e-02,\n",
       "           8.1070e-02,  4.4644e-02,  4.1032e-02,  5.7744e-02, -2.9396e-02,\n",
       "           2.5424e-02, -1.6780e-02, -5.7210e-02,  2.7390e-02,  9.4896e-02,\n",
       "           6.4908e-02,  3.6682e-02,  4.1349e-02,  8.6931e-03,  7.4144e-02,\n",
       "          -4.5701e-02,  6.1183e-02,  6.5876e-02,  1.3078e-01,  2.8899e-02,\n",
       "           9.2864e-02,  2.4961e-02, -2.8326e-03, -6.7125e-02, -2.3018e-02,\n",
       "          -8.6713e-02, -1.7110e-02,  2.9671e-02, -4.5012e-02,  5.5220e-03,\n",
       "          -1.4219e-01, -2.8523e-02,  5.0584e-02, -6.6457e-02,  9.4344e-03,\n",
       "           5.9276e-02, -6.4709e-02, -8.5535e-02, -5.4773e-02,  5.1983e-02,\n",
       "          -5.3098e-02, -1.3095e-01, -1.1236e-02,  1.9335e-02, -1.5719e-01,\n",
       "           4.2126e-03, -8.4341e-02, -1.0620e-01,  1.9093e-02,  2.0021e-02,\n",
       "          -1.7110e-02, -8.5261e-02,  1.0533e-01,  1.7871e-02,  6.7302e-02,\n",
       "          -3.2917e-02,  5.7922e-02, -6.2620e-02,  4.0077e-02,  1.5989e-01,\n",
       "          -2.4563e-02, -3.6159e-03,  6.2183e-02,  3.7145e-02, -3.6297e-02,\n",
       "          -2.1426e-02, -3.2292e-02,  7.4524e-02, -3.3433e-04, -2.2795e-02,\n",
       "           3.1050e-02,  6.8927e-02, -2.5544e-02, -9.4156e-02, -1.2307e-01,\n",
       "           8.9689e-02, -1.4859e-02,  7.8747e-02, -2.9881e-02, -1.6871e-02,\n",
       "          -4.2864e-02,  2.6849e-02, -6.7271e-02, -7.6896e-03, -4.3778e-02,\n",
       "          -1.4453e-01, -3.0811e-02, -3.4612e-02, -6.1128e-02, -5.5566e-04,\n",
       "          -6.5868e-03,  9.8529e-03, -5.0229e-02,  8.6316e-02,  2.7284e-02,\n",
       "           1.2106e-01,  4.4736e-04,  2.2597e-02, -4.2637e-02, -9.9257e-02,\n",
       "          -1.3177e-01, -2.3107e-02, -1.2093e-02,  5.7727e-02,  2.5185e-02,\n",
       "          -5.9458e-02, -1.4862e-01,  1.7790e-02,  8.9429e-02,  1.2031e-02,\n",
       "           3.4544e-02, -3.5583e-02,  3.5388e-03,  1.9411e-01,  4.3112e-02,\n",
       "          -6.1927e-02,  2.7177e-02,  3.7981e-02,  7.1745e-02,  5.9223e-02,\n",
       "           9.7651e-02, -3.7337e-02,  1.0625e-01,  1.0071e-01, -3.3632e-02,\n",
       "           4.6351e-02,  1.1354e-01,  1.3096e-01]]), hidden_states=None, attentions=None)]"
      ]
     },
     "execution_count": 24,
     "metadata": {},
     "output_type": "execute_result"
    }
   ],
   "source": [
    "model_output"
   ]
  },
  {
   "cell_type": "code",
   "execution_count": null,
   "metadata": {},
   "outputs": [
    {
     "name": "stdout",
     "output_type": "stream",
     "text": [
      "torch.Size([2, 6, 768])\n"
     ]
    }
   ],
   "source": [
    "print(model_output[0]['last_hidden_state'].shape)"
   ]
  },
  {
   "cell_type": "code",
   "execution_count": null,
   "metadata": {},
   "outputs": [
    {
     "data": {
      "text/plain": [
       "tensor([[[-0.0870,  0.0645,  0.0098,  ...,  0.0424, -0.0181,  0.1190],\n",
       "         [ 0.0227,  0.2596,  0.0271,  ...,  0.1137, -0.0223,  0.0496],\n",
       "         [ 0.0836,  0.0473, -0.0310,  ...,  0.1554, -0.0554,  0.1379],\n",
       "         [-0.0267,  0.1297, -0.0454,  ...,  0.1109, -0.0114,  0.1192],\n",
       "         [-0.0958,  0.0872,  0.0079,  ...,  0.0675,  0.0018,  0.1379],\n",
       "         [-0.0861,  0.0774, -0.0070,  ...,  0.0501, -0.0143,  0.1292]],\n",
       "\n",
       "        [[ 0.0284,  0.2059,  0.0289,  ...,  0.1025, -0.0290,  0.0381],\n",
       "         [ 0.1187,  0.4395, -0.0072,  ...,  0.0496,  0.0509,  0.0447],\n",
       "         [ 0.1225,  0.2441, -0.0607,  ...,  0.0828, -0.0102,  0.0117],\n",
       "         [ 0.0516,  0.3985,  0.0582,  ...,  0.0559, -0.0555, -0.0151],\n",
       "         [ 0.1033,  0.4640,  0.0588,  ...,  0.0649,  0.0380,  0.1025],\n",
       "         [-0.0066,  0.1456,  0.0037,  ...,  0.1302, -0.0198,  0.0529]]])"
      ]
     },
     "execution_count": 12,
     "metadata": {},
     "output_type": "execute_result"
    }
   ],
   "source": [
    "model_output[0]['last_hidden_state']"
   ]
  },
  {
   "cell_type": "code",
   "execution_count": null,
   "metadata": {},
   "outputs": [
    {
     "name": "stdout",
     "output_type": "stream",
     "text": [
      "tensor([[    0,  4941, 11973,  4548,     2,     1],\n",
      "        [    0,  4941, 11973,  4299,  7636,     2]])\n",
      "tensor([[1, 1, 1, 1, 1, 0],\n",
      "        [1, 1, 1, 1, 1, 1]])\n"
     ]
    }
   ],
   "source": [
    "print(encoded_input[0][\"input_ids\"])\n",
    "print(encoded_input[0][\"attention_mask\"])"
   ]
  },
  {
   "cell_type": "code",
   "execution_count": null,
   "metadata": {},
   "outputs": [
    {
     "name": "stdout",
     "output_type": "stream",
     "text": [
      "torch.Size([2, 768])\n",
      "torch.Size([1, 768])\n"
     ]
    }
   ],
   "source": [
    "print(sentence_embeddings[0].shape)\n",
    "print(sentence_embeddings[1].shape)"
   ]
  },
  {
   "cell_type": "code",
   "execution_count": null,
   "metadata": {},
   "outputs": [
    {
     "data": {
      "text/plain": [
       "tensor([[-0.0063,  0.0356, -0.0019,  ...,  0.0296, -0.0064,  0.0341],\n",
       "        [ 0.0204,  0.0927,  0.0040,  ...,  0.0237, -0.0012,  0.0115]])"
      ]
     },
     "execution_count": 11,
     "metadata": {},
     "output_type": "execute_result"
    }
   ],
   "source": [
    "sentence_embeddings[0]"
   ]
  },
  {
   "cell_type": "code",
   "execution_count": null,
   "metadata": {},
   "outputs": [
    {
     "data": {
      "text/plain": [
       "109486464"
      ]
     },
     "execution_count": 18,
     "metadata": {},
     "output_type": "execute_result"
    }
   ],
   "source": [
    "sum(p.numel() for p in model.parameters()) # nb parameters"
   ]
  },
  {
   "cell_type": "code",
   "execution_count": null,
   "metadata": {},
   "outputs": [],
   "source": []
  }
 ],
 "metadata": {
  "kernelspec": {
   "display_name": "mmcl",
   "language": "python",
   "name": "python3"
  },
  "language_info": {
   "codemirror_mode": {
    "name": "ipython",
    "version": 3
   },
   "file_extension": ".py",
   "mimetype": "text/x-python",
   "name": "python",
   "nbconvert_exporter": "python",
   "pygments_lexer": "ipython3",
   "version": "3.11.5"
  }
 },
 "nbformat": 4,
 "nbformat_minor": 2
}
